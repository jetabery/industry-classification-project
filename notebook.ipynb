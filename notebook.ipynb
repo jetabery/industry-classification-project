{
 "cells": [
  {
   "cell_type": "markdown",
   "metadata": {},
   "source": [
    "# Assignment 1 -- Julius Tabery, Harrison Le"
   ]
  },
  {
   "cell_type": "markdown",
   "metadata": {},
   "source": [
    "## Task 1: Load the dataset and make at least two observations"
   ]
  },
  {
   "cell_type": "code",
   "execution_count": 1,
   "metadata": {},
   "outputs": [
    {
     "data": {
      "text/html": [
       "<div>\n",
       "<style scoped>\n",
       "    .dataframe tbody tr th:only-of-type {\n",
       "        vertical-align: middle;\n",
       "    }\n",
       "\n",
       "    .dataframe tbody tr th {\n",
       "        vertical-align: top;\n",
       "    }\n",
       "\n",
       "    .dataframe thead th {\n",
       "        text-align: right;\n",
       "    }\n",
       "</style>\n",
       "<table border=\"1\" class=\"dataframe\">\n",
       "  <thead>\n",
       "    <tr style=\"text-align: right;\">\n",
       "      <th></th>\n",
       "      <th>employers</th>\n",
       "      <th>description</th>\n",
       "    </tr>\n",
       "  </thead>\n",
       "  <tbody>\n",
       "    <tr>\n",
       "      <th>count</th>\n",
       "      <td>20000</td>\n",
       "      <td>20000</td>\n",
       "    </tr>\n",
       "    <tr>\n",
       "      <th>unique</th>\n",
       "      <td>20000</td>\n",
       "      <td>19996</td>\n",
       "    </tr>\n",
       "    <tr>\n",
       "      <th>top</th>\n",
       "      <td>full-time mother</td>\n",
       "      <td>Computer Network Technology Corporation provid...</td>\n",
       "    </tr>\n",
       "    <tr>\n",
       "      <th>freq</th>\n",
       "      <td>1</td>\n",
       "      <td>2</td>\n",
       "    </tr>\n",
       "  </tbody>\n",
       "</table>\n",
       "</div>"
      ],
      "text/plain": [
       "               employers                                        description\n",
       "count              20000                                              20000\n",
       "unique             20000                                              19996\n",
       "top     full-time mother  Computer Network Technology Corporation provid...\n",
       "freq                   1                                                  2"
      ]
     },
     "execution_count": 1,
     "metadata": {},
     "output_type": "execute_result"
    }
   ],
   "source": [
    "import pandas as pd\n",
    "\n",
    "raw_data = pd.read_csv('employer_raw_data_group_2.csv')\n",
    "\n",
    "raw_data.describe()"
   ]
  },
  {
   "cell_type": "code",
   "execution_count": 25,
   "metadata": {},
   "outputs": [
    {
     "name": "stdout",
     "output_type": "stream",
     "text": [
      "“RehabAbilities has been designed with YOU in mind. Being therapist-owned, we speak your language & value your high clinical standards & ethics. We pride ourselves on having the most qualified & experienced Scheduling Team, Therapy Personnel, & Social Workers dedicated to providing excellent patient care! Physical Therapist Assistant Inpatient and Outpatient (Former Employee) - Corona, CA - March 24, 2021. RehabAbilities is a Pro white male racist company. After accepting assignments, assignments were often taken away from and given to white males.. Replacement assignments in lieu of the withdrawn assignments and with no additional compensation ... Find out what works well at RehabAbilities from the people who know best. Get the inside scoop on jobs, salaries, top office locations, and CEO insights. Compare pay for popular roles and read about the team’s work-life balance. Uncover why RehabAbilities is the best company for you. 1 review of RehabAbilities \"After experiencing what I did with this staffing agency, I would no longer be using any of these types of services any longer. The initial HR assistance who reached out and screened me was nice, but the recruiter (Mark) was quite pushy and disrespectful. We all know staffing agencies get a commission, like a car sales, once people get matched and hired. Rehababilities, Inc. is a New Mexico Foreign Profit Corporation filed On July 27, 1992. The company's filing status is listed as Revoked Final and its File Number is 1575075. The Registered Agent on file for this company is Michael Jones and is located at 5555 Zuni Rd. Se #356, Albuquerque, NM 87108. Rehababilities, Inc. operates as a non profit organization. The Company offers occupational, physical, marriage, and family therapy, speech language pathology, case ... 8655 Haven Avenue, Rancho Cucamonga, CA 91730. +19099895699. Website. Rehababilities offers a comprehensive range of services for those in need of medical assistance in Rancho Cucamonga, CA. Keep your circulation flowing and your muscles eased with a massage from this clinic. RehabAbilities & Social Service Professionals Reviews. Updated Oct 4, 2019. 3.6. ★★★★★. 78 %. Recommend to a Friend. Kim Ozias-Jones. 0 Rating. Your trust is our top concern, so companies can't alter or remove reviews. The average RehabAbilities & Social Service Professionals hourly pay ranges from approximately $27 per hour for a Social Worker to $27 per hour for a Social Worker. RehabAbilities & Social Service Professionals employees rate the overall compensation and benefits package 3.5/5 stars. Find 2 listings related to Rehababilities Inc in Rancho Cucamonga on YP.com. See reviews, photos, directions, phone numbers and more for Rehababilities Inc locations in Rancho Cucamonga, CA. RehabAbilities - Hourly Rate - Get a free salary comparison based on job title, skills, experience and education. Accurate, reliable salary and compensation comparisons for United States Supplier Spotlight: RehabAbilities. By Marketing on 11/13/15 in Suppliers. Company Location: Rancho Cucamonga, CA. Type of Staffing: Allied and Social Work. Name: Susan Westin. Job Title: Rehab Staffing Manager. RehabAbilities Feb 2018 - Present 3 years 7 months. Rancho Cucamonga HR Recruiter Artic Mechanical Sep 2017 - Feb 2018 6 months. Sr. Consultant frederick | andrews ... Site: rehababilities.com. Phone: (909) 989-5699, (909) 989-7633 (Fax) Addresses: 8655 Haven Ave Ste 200, Rancho Cucamonga, CA 91730 (Mailing) 9227 Haven Ave # 300, Rancho Cucamonga, CA 91730. State ID: 0802018041. Business type: Foreign For-Profit Corporation Rehababilities, Inc. was founded in 1987, and is located at 8655 Haven Ave Ste 200 in Rancho Cucamonga. Additional information is available at www.rehababilities.com or by contacting Kimberly Jones at (909) 989-5699. RehabAbilities | Rehab Therapy Staffing and Jobs for - PTs, PTAs, OTs, OTAs, & SLPs, in California. Visit our website to see our Therapy Job Opportunities! RehabAbilities is a rehabilitation and social work staffing company. I handle multifaceted administrative needs and provide support to executive and account management, client relations and ... The National Acquisition Center Contract Catalog Search Tool now allows your facility to browse MedSurg and Pharmaceutical products and services available under Federal Supply Service contracts. The search tool allows the user to locate items using a variety of search criteria, including item description, special item number (SIN) and contract number. The National Acquisition Center Contract Catalog Search Tool now allows your facility to browse MedSurg and Pharmaceutical products and services available under Federal Supply Service contracts. The search tool allows the user to locate items using a variety of search criteria, including item description, special item number (SIN) and contract number.\n"
     ]
    }
   ],
   "source": [
    "print(raw_data['description'].loc[100])"
   ]
  },
  {
   "cell_type": "markdown",
   "metadata": {},
   "source": [
    "### Observations\n",
    "The dataset contains just two columns: the name of the company (\"employers\") and the description of the company (\"description\"). The \"employers\" column seems straightforward enough, but the \"description\" column is a bit more complicated. It all seems to pertain to the company, but the content of the descriptions seem to vary. For example, the description above starts with an advertisement for the company, but then also includes some kind of review from a former employee who accuses the company of racist and sexist practice. It seems like, often, pieces of information from distinct sources are separated by two or three periods (\"...\")."
   ]
  },
  {
   "cell_type": "markdown",
   "metadata": {},
   "source": [
    "## Task 2: Create the regex for a phone number"
   ]
  }
 ],
 "metadata": {
  "interpreter": {
   "hash": "6dd0af9b8b7e17f847c2ee7319c6039c72192adc34eba6a901458aae092d1543"
  },
  "kernelspec": {
   "display_name": "Python 3.9.1 64-bit",
   "name": "python3"
  },
  "language_info": {
   "codemirror_mode": {
    "name": "ipython",
    "version": 3
   },
   "file_extension": ".py",
   "mimetype": "text/x-python",
   "name": "python",
   "nbconvert_exporter": "python",
   "pygments_lexer": "ipython3",
   "version": "3.9.1"
  },
  "orig_nbformat": 4
 },
 "nbformat": 4,
 "nbformat_minor": 2
}
