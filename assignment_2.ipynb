{
 "cells": [
  {
   "cell_type": "code",
   "metadata": {
    "tags": [],
    "cell_id": "00000-f6457654-43c8-408f-82ef-6e8094b73a1f",
    "deepnote_to_be_reexecuted": false,
    "source_hash": "abfd119f",
    "execution_start": 1635368177683,
    "execution_millis": 54023,
    "deepnote_cell_type": "code"
   },
   "source": "import pandas as pd\nimport regex as re\nimport string\nimport unicodedata\nimport nltk\nimport spacy\nnltk.download('wordnet')\n!python -m spacy download en_core_web_sm >> /dev/null\nfrom sklearn.feature_extraction.text import TfidfVectorizer, CountVectorizer, HashingVectorizer",
   "execution_count": null,
   "outputs": [
    {
     "name": "stderr",
     "text": "[nltk_data] Downloading package wordnet to /root/nltk_data...\n[nltk_data]   Unzipping corpora/wordnet.zip.\n2021-10-27 20:56:48.496509: W tensorflow/stream_executor/platform/default/dso_loader.cc:60] Could not load dynamic library 'libcudart.so.11.0'; dlerror: libcudart.so.11.0: cannot open shared object file: No such file or directory\n2021-10-27 20:56:48.496566: I tensorflow/stream_executor/cuda/cudart_stub.cc:29] Ignore above cudart dlerror if you do not have a GPU set up on your machine.\n\u001b[33mWARNING: You are using pip version 21.2.4; however, version 21.3.1 is available.\nYou should consider upgrading via the '/root/venv/bin/python -m pip install --upgrade pip' command.\u001b[0m\n",
     "output_type": "stream"
    }
   ]
  },
  {
   "cell_type": "code",
   "metadata": {
    "tags": [],
    "cell_id": "00001-992d117f-69b6-4cc6-be3e-0e4b4bbcaca4",
    "deepnote_to_be_reexecuted": false,
    "source_hash": "b6b04dcc",
    "execution_start": 1635368231724,
    "execution_millis": 2498,
    "deepnote_cell_type": "code"
   },
   "source": "raw_data = pd.read_csv('employer_raw_data_group_2.csv')\nsentences = raw_data['description'].values",
   "execution_count": null,
   "outputs": []
  },
  {
   "cell_type": "code",
   "metadata": {
    "tags": [],
    "cell_id": "00002-449b8a76-4ebd-4251-8106-219eed1eb9d2",
    "deepnote_to_be_reexecuted": false,
    "source_hash": "f689a68c",
    "execution_start": 1635368234228,
    "execution_millis": 13,
    "deepnote_cell_type": "code"
   },
   "source": "stemmer = nltk.stem.SnowballStemmer(\"english\")\nstop_words = []\nwith open(\"stopwords.txt\", \"r\") as f_in:\n        stop_words = [i.strip().lower() for i in f_in.readlines()]\nlemmatizer = nltk.stem.WordNetLemmatizer()",
   "execution_count": null,
   "outputs": []
  },
  {
   "cell_type": "markdown",
   "source": "# Task 1: Generalize all the preprocessing tasks into one single function that can be use in the Vectorizer\n",
   "metadata": {
    "tags": [],
    "is_collapsed": false,
    "cell_id": "00002-ee19ac19-a7c6-406a-9abc-2f69cbfaaf3d",
    "deepnote_cell_type": "text-cell-h1"
   }
  },
  {
   "cell_type": "code",
   "metadata": {
    "tags": [],
    "cell_id": "00002-b6cd0d24-b0c6-4b33-924b-d3d5fd268f6c",
    "deepnote_to_be_reexecuted": false,
    "source_hash": "b393c92f",
    "execution_start": 1635368234247,
    "execution_millis": 56,
    "deepnote_cell_type": "code"
   },
   "source": "def get_preprocessing_function(\n    use_lower: bool = True,\n    use_alpha: bool = True,\n    use_stemming: bool = False,\n    use_nodates: bool = False,\n    use_nourl: bool = True,\n    use_stopwords: bool=False,\n    use_lemmatizer: bool=False,\n    use_nocity: bool=False\n):\n    \n    def alpha(text: str):\n        return re.sub(\"[^a-z]+\", \" \", text) if use_alpha else text\n\n    def lower(text: str):\n        return text.lower() if use_lower else text\n        \n    def stemming(text: str):\n        if use_stemming:\n            text = ' '.join(stemmer.stem(x) for x in text.split())\n        return text\n    \n    def dates(text: str):\n        dates = ['january', 'february', 'march', 'april', 'may', 'june', 'july', 'august', 'september', 'october', 'november', 'december', 'jan', 'feb', 'mar', 'apr', 'may', 'jun', 'jul', 'aug', 'sep', \n    'sept', 'oct', 'nov', 'dec'] #added abbreviations to the months list\n        return \" \".join([word for word in text.split(\" \") if word not in dates]) if use_nodates else text\n\n    def url(text: str):\n        url_pattern = re.compile('\\\\S*\\\\.com\\\\b|https?://\\S+|www\\.\\S+')\n        return url_pattern.sub('', text) if use_nourl else text\n    \n    def remove_stopwords(text):\n        return \" \".join([word for word in text.split(\" \") if word not in stop_words]) if use_stopwords else text\n    \n    def lemmatize(text: str):\n        if use_lemmatizer:\n            text=' '.join(lemmatizer.lemmatize(x) for x in text.split())\n        return text\n    \n    def cityremover(text: str):\n        city_state_pattern = re.compile(\"(?<![A-Za-z])[A-Z][a-z]+, [A-Z]{2}(?![A-Za-z])\") # Matches strings like \"Nashville, TN\"\n        return city_state_pattern.sub('city', text) if use_nocity else text\n\n    def preprocess(text: str):\n        #Create list of steps\n        steps = [lower,url, alpha, dates, cityremover, remove_stopwords, lemmatize, stemming]\n        for step in steps:\n            text = step(text)\n        return text\n    \n    return preprocess",
   "execution_count": null,
   "outputs": []
  },
  {
   "cell_type": "code",
   "metadata": {
    "tags": [],
    "cell_id": "00005-e29071cf-b465-45c1-aa6d-77b8fb5273bb",
    "deepnote_to_be_reexecuted": false,
    "source_hash": "c449c264",
    "execution_start": 1635368234310,
    "execution_millis": 8,
    "deepnote_cell_type": "code"
   },
   "source": "preprocess = get_preprocessing_function(\n    use_lower= True,\n    use_alpha= True,\n    use_stemming= False,\n    use_nodates= True,\n    use_nourl= True,\n    use_stopwords= True,\n    use_lemmatizer= True,\n    use_nocity=True\n)",
   "execution_count": null,
   "outputs": []
  },
  {
   "cell_type": "code",
   "metadata": {
    "tags": [],
    "cell_id": "00006-d1cf0c94-c987-4ff6-b75e-2e81f7e1e196",
    "deepnote_to_be_reexecuted": false,
    "source_hash": "89ac09d7",
    "execution_start": 1635368234324,
    "execution_millis": 309427,
    "deepnote_cell_type": "code"
   },
   "source": "preprocessed_data=raw_data\npreprocessed_data['description'] = preprocessed_data['description'].apply(preprocess)",
   "execution_count": null,
   "outputs": []
  },
  {
   "cell_type": "code",
   "metadata": {
    "tags": [],
    "cell_id": "00007-940d030e-d0ad-45c0-b237-2481ce28c6a1",
    "deepnote_to_be_reexecuted": false,
    "source_hash": "96adecbb",
    "execution_start": 1635368543752,
    "execution_millis": 2,
    "deepnote_cell_type": "code"
   },
   "source": "print(preprocessed_data['description'].loc[100])",
   "execution_count": null,
   "outputs": [
    {
     "name": "stdout",
     "text": "rehababilities designed mind therapist owned speak language value high clinical standard ethic pride qualified experienced scheduling team therapy personnel social worker dedicated providing excellent patient care physical therapist assistant inpatient outpatient former employee corona ca rehababilities pro white male racist company accepting assignment assignment often taken away given white male replacement assignment lieu withdrawn assignment additional compensation work well rehababilities people know best inside scoop job salary top office location ceo insight compare pay popular role read team work life balance uncover rehababilities best company review rehababilities experiencing staffing agency would longer using type service longer initial hr assistance reached screened nice recruiter mark quite pushy disrespectful know staffing agency commission like car sale people matched hired rehababilities inc new mexico foreign profit corporation filed company filing status listed revoked final file number registered agent file company michael jones located zuni rd se albuquerque nm rehababilities inc operates non profit organization company offer occupational physical marriage family therapy speech language pathology case avenue rancho cucamonga ca website rehababilities offer comprehensive range service need medical assistance rancho cucamonga ca keep circulation flowing muscle eased massage clinic rehababilities social service professional review updated recommend friend kim ozias jones rating trust top concern company alter remove review average rehababilities social service professional hourly pay range approximately social worker social worker rehababilities social service professional employee rate overall compensation benefit package star listing related rehababilities inc rancho cucamonga review photo direction phone number rehababilities inc location rancho cucamonga ca rehababilities hourly rate free salary comparison based job title skill experience education accurate reliable salary compensation comparison united state supplier spotlight rehababilities marketing supplier company location rancho cucamonga ca type staffing allied social work name susan westin job title rehab staffing manager rehababilities present year month rancho cucamonga hr recruiter artic mechanical month sr consultant frederick andrew site phone fax address ste rancho cucamonga ca mailing rancho cucamonga ca state id business type foreign profit corporation rehababilities inc founded located ste rancho cucamonga additional information available contacting kimberly jones rehababilities rehab therapy staffing job california visit website therapy job opportunity rehababilities rehabilitation social work staffing company handle multifaceted administrative need provide support executive account management client relation national acquisition center contract catalog search tool allows facility browse medsurg pharmaceutical product service available federal supply service contract search tool allows user locate item using variety search criterion including item description special item number sin contract number national acquisition center contract catalog search tool allows facility browse medsurg pharmaceutical product service available federal supply service contract search tool allows user locate item using variety search criterion including item description special item number sin contract number\n",
     "output_type": "stream"
    }
   ]
  },
  {
   "cell_type": "markdown",
   "source": "# Task 2: Work and research on Hashing Vectorizer. ",
   "metadata": {
    "tags": [],
    "is_collapsed": false,
    "cell_id": "00008-f6d22808-fa2a-48e2-a30a-a2121f90f2d6",
    "deepnote_cell_type": "text-cell-h1"
   }
  },
  {
   "cell_type": "markdown",
   "source": "Pros:\n<uli><li>Utilizes very little memory compared to other methods due to hashing strings avoid the need to store words in a dictionary\n\n<uli><li>Incredibly fast with converting objects into character streams because it does not utilize state\n\n<uli><li>Again, because it does not have a state computation, it can be used streaming or parallel pipeline",
   "metadata": {
    "tags": [],
    "cell_id": "00009-cbb07fe3-7aa2-4870-bc29-3fccdda36789",
    "deepnote_cell_type": "markdown"
   }
  },
  {
   "cell_type": "markdown",
   "source": "Cons:\n\n<uli><li>Because the fact that it uses hashing, there is no way to revert back to the original version before the hashing.\n<uli><li>Another problem that can occur due to hashing is the possibility of collisions (when 2 or more different things hash to the same thing).\n<uli><li>Because the function does not have a state, it does not have IDF weighting.",
   "metadata": {
    "tags": [],
    "cell_id": "00010-60ae01b1-01db-491b-a968-0dbab84caa74",
    "deepnote_cell_type": "markdown"
   }
  },
  {
   "cell_type": "markdown",
   "source": "Source: https://scikit-learn.org/stable/modules/generated/sklearn.feature_extraction.text.HashingVectorizer.html",
   "metadata": {
    "tags": [],
    "is_collapsed": false,
    "cell_id": "00011-71f57760-9dcc-42f3-aace-e9aec01ef3a4",
    "deepnote_cell_type": "text-cell-p"
   }
  },
  {
   "cell_type": "code",
   "metadata": {
    "tags": [],
    "cell_id": "00012-e7ee69bd-3f31-4c5a-84ee-cbd529b189eb",
    "deepnote_to_be_reexecuted": false,
    "source_hash": "bb3cf165",
    "execution_start": 1635368543753,
    "execution_millis": 42,
    "deepnote_cell_type": "code"
   },
   "source": "hash_vector = HashingVectorizer(\n    preprocessor=preprocess,\n    ngram_range=(1,1),\n    tokenizer=lambda s:s.split(),\n    n_features=100\n)\ntfidf_vector = TfidfVectorizer(\n    preprocessor=preprocess,\n    ngram_range=(1,1),\n    tokenizer=lambda s: s.split(),\n    min_df=0.15,\n    max_df=0.45,\n    max_features=100,\n    use_idf=True,\n    smooth_idf=True\n)",
   "execution_count": null,
   "outputs": []
  },
  {
   "cell_type": "code",
   "metadata": {
    "tags": [],
    "cell_id": "00013-b806af71-3902-4ee2-a768-42dbce741b07",
    "deepnote_to_be_reexecuted": false,
    "source_hash": "fd3a69",
    "execution_start": 1635368543796,
    "execution_millis": 266975,
    "deepnote_cell_type": "code"
   },
   "source": "vector = hash_vector.fit_transform(sentences) #using hashvectoring",
   "execution_count": null,
   "outputs": [
    {
     "name": "stderr",
     "text": "/shared-libs/python3.7/py/lib/python3.7/site-packages/sklearn/feature_extraction/text.py:517: UserWarning: The parameter 'token_pattern' will not be used since 'tokenizer' is not None'\n  \"The parameter 'token_pattern' will not be used\"\n",
     "output_type": "stream"
    }
   ]
  },
  {
   "cell_type": "code",
   "metadata": {
    "tags": [],
    "cell_id": "00014-d0d4da2e-56cb-4bfe-8fb0-7eb078a4be42",
    "deepnote_to_be_reexecuted": false,
    "source_hash": "21d89589",
    "execution_start": 1635368810771,
    "execution_millis": 1,
    "deepnote_cell_type": "code"
   },
   "source": "vector.todense() #the matrix returned by hashvectoring",
   "execution_count": null,
   "outputs": [
    {
     "output_type": "execute_result",
     "execution_count": 11,
     "data": {
      "text/plain": "matrix([[-0.0557856 ,  0.0371904 , -0.0185952 , ..., -0.0557856 ,\n         -0.1115712 , -0.0557856 ],\n        [-0.03092332, -0.03092332,  0.04638497, ...,  0.07730829,\n          0.        , -0.10823161],\n        [ 0.04662524,  0.        ,  0.02331262, ...,  0.        ,\n          0.02331262, -0.06993786],\n        ...,\n        [ 0.        ,  0.        , -0.02154652, ...,  0.        ,\n          0.        , -0.1077326 ],\n        [ 0.01761995, -0.05285985,  0.0352399 , ..., -0.07047979,\n          0.01761995,  0.        ],\n        [ 0.01557187,  0.06228747,  0.03114373, ..., -0.01557187,\n          0.03114373,  0.        ]])"
     },
     "metadata": {}
    }
   ]
  },
  {
   "cell_type": "code",
   "metadata": {
    "tags": [],
    "cell_id": "00015-8eb26247-d37f-4ccf-9073-37f1662509af",
    "deepnote_to_be_reexecuted": false,
    "source_hash": "6b9fd51",
    "execution_start": 1635368810797,
    "execution_millis": 264365,
    "deepnote_cell_type": "code"
   },
   "source": "vector1 = tfidf_vector.fit_transform(sentences)",
   "execution_count": null,
   "outputs": []
  },
  {
   "cell_type": "code",
   "metadata": {
    "tags": [],
    "cell_id": "00016-dfb34599-a7f5-45f9-bfb9-816bd0fa1234",
    "deepnote_to_be_reexecuted": false,
    "source_hash": "c067a69d",
    "execution_start": 1635369133331,
    "execution_millis": 2,
    "deepnote_cell_type": "code"
   },
   "source": "vector1.todense()",
   "execution_count": null,
   "outputs": [
    {
     "output_type": "execute_result",
     "execution_count": 16,
     "data": {
      "text/plain": "matrix([[0.04598267, 0.        , 0.        , ..., 0.        , 0.        ,\n         0.        ],\n        [0.        , 0.        , 0.        , ..., 0.        , 0.03494895,\n         0.        ],\n        [0.        , 0.08190099, 0.        , ..., 0.2814436 , 0.08299097,\n         0.        ],\n        ...,\n        [0.18789787, 0.        , 0.        , ..., 0.36630952, 0.16202384,\n         0.        ],\n        [0.03456915, 0.        , 0.03647552, ..., 0.06739305, 0.        ,\n         0.33270152],\n        [0.1854991 , 0.        , 0.19572871, ..., 0.09040827, 0.        ,\n         0.        ]])"
     },
     "metadata": {}
    }
   ]
  },
  {
   "cell_type": "code",
   "metadata": {
    "tags": [],
    "cell_id": "00017-2126fbe5-19c3-4ee7-a06e-5ea3401ff422",
    "deepnote_to_be_reexecuted": false,
    "source_hash": "2a6343b2",
    "execution_start": 1635369133332,
    "execution_millis": 2,
    "deepnote_cell_type": "code"
   },
   "source": "sorted(tfidf_vector.vocabulary_.items(),key=lambda x: x[1])",
   "execution_count": null,
   "outputs": [
    {
     "output_type": "execute_result",
     "execution_count": 17,
     "data": {
      "text/plain": "[('address', 0),\n ('best', 1),\n ('c', 2),\n ('call', 3),\n ('care', 4),\n ('center', 5),\n ('client', 6),\n ('co', 7),\n ('college', 8),\n ('community', 9),\n ('contact', 10),\n ('corporation', 11),\n ('county', 12),\n ('customer', 13),\n ('data', 14),\n ('day', 15),\n ('department', 16),\n ('design', 17),\n ('development', 18),\n ('director', 19),\n ('e', 20),\n ('education', 21),\n ('employee', 22),\n ('family', 23),\n ('financial', 24),\n ('firm', 25),\n ('first', 26),\n ('founded', 27),\n ('free', 28),\n ('full', 29),\n ('global', 30),\n ('group', 31),\n ('health', 32),\n ('help', 33),\n ('high', 34),\n ('home', 35),\n ('inc', 36),\n ('industry', 37),\n ('international', 38),\n ('investment', 39),\n ('job', 40),\n ('largest', 41),\n ('leading', 42),\n ('life', 43),\n ('limited', 44),\n ('linkedin', 45),\n ('llc', 46),\n ('make', 47),\n ('manager', 48),\n ('market', 49),\n ('medical', 50),\n ('member', 51),\n ('month', 52),\n ('n', 53),\n ('national', 54),\n ('need', 55),\n ('network', 56),\n ('number', 57),\n ('office', 58),\n ('online', 59),\n ('oregon', 60),\n ('organization', 61),\n ('p', 62),\n ('part', 63),\n ('partner', 64),\n ('patient', 65),\n ('people', 66),\n ('phone', 67),\n ('portland', 68),\n ('private', 69),\n ('product', 70),\n ('professional', 71),\n ('profile', 72),\n ('program', 73),\n ('project', 74),\n ('provide', 75),\n ('provider', 76),\n ('provides', 77),\n ('public', 78),\n ('quality', 79),\n ('real', 80),\n ('research', 81),\n ('salary', 82),\n ('sale', 83),\n ('school', 84),\n ('security', 85),\n ('since', 86),\n ('solution', 87),\n ('student', 88),\n ('support', 89),\n ('system', 90),\n ('technology', 91),\n ('th', 92),\n ('united', 93),\n ('university', 94),\n ('use', 95),\n ('view', 96),\n ('website', 97),\n ('well', 98),\n ('york', 99)]"
     },
     "metadata": {}
    }
   ]
  },
  {
   "cell_type": "markdown",
   "source": "# Task 3: Research on Non-negative Matrix Factorization ",
   "metadata": {
    "tags": [],
    "is_collapsed": false,
    "cell_id": "00018-8ea5bf25-7dc6-4059-ba2b-47251c8005d9",
    "deepnote_cell_type": "text-cell-h1"
   }
  },
  {
   "cell_type": "markdown",
   "source": "https://docs.google.com/presentation/d/1HPOqddXEz9BKKSnpjZYOvnfgKeNlZZOxulPgakfCQGw/edit?usp=sharing",
   "metadata": {
    "tags": [],
    "is_collapsed": false,
    "cell_id": "00019-3311386a-be68-4ee0-88a6-a3963c5f08b2",
    "deepnote_cell_type": "text-cell-p"
   }
  },
  {
   "cell_type": "markdown",
   "source": "# Task 4: Implementation of a NNMF ",
   "metadata": {
    "tags": [],
    "is_collapsed": false,
    "cell_id": "00020-21206e09-dab7-4387-8488-efd413a54683",
    "deepnote_cell_type": "text-cell-h1"
   }
  },
  {
   "cell_type": "code",
   "metadata": {
    "tags": [],
    "cell_id": "00021-b1dd3e48-ab5c-4bdf-8421-875451f930a3",
    "deepnote_to_be_reexecuted": false,
    "source_hash": "2a5df45b",
    "execution_start": 1635369133335,
    "execution_millis": 54,
    "deepnote_cell_type": "code"
   },
   "source": "from sklearn.decomposition import NMF",
   "execution_count": null,
   "outputs": []
  },
  {
   "cell_type": "code",
   "metadata": {
    "tags": [],
    "cell_id": "00022-a4b561b2-d389-437f-870f-a0682017ed06",
    "deepnote_to_be_reexecuted": false,
    "source_hash": "134dc327",
    "execution_start": 1635369133439,
    "execution_millis": 0,
    "deepnote_cell_type": "code"
   },
   "source": "nmf = NMF(n_components=100)",
   "execution_count": null,
   "outputs": []
  },
  {
   "cell_type": "code",
   "metadata": {
    "tags": [],
    "cell_id": "00023-8cb9885b-2e1c-46a6-b7b4-66d347e29a79",
    "deepnote_to_be_reexecuted": false,
    "source_hash": "621da9a5",
    "execution_start": 1635369133439,
    "execution_millis": 24701,
    "deepnote_cell_type": "code"
   },
   "source": "W = nmf.fit_transform(vector1)",
   "execution_count": null,
   "outputs": [
    {
     "name": "stderr",
     "text": "/shared-libs/python3.7/py/lib/python3.7/site-packages/sklearn/decomposition/_nmf.py:294: FutureWarning: The 'init' value, when 'init=None' and n_components is less than n_samples and n_features, will be changed from 'nndsvd' to 'nndsvda' in 1.1 (renaming of 0.26).\n  FutureWarning,\n",
     "output_type": "stream"
    }
   ]
  },
  {
   "cell_type": "code",
   "metadata": {
    "tags": [],
    "cell_id": "00024-a40de55a-b5d4-4311-94a7-6c9d0e25aa93",
    "deepnote_to_be_reexecuted": false,
    "source_hash": "4bfeeb75",
    "execution_start": 1635369158142,
    "execution_millis": 16,
    "deepnote_cell_type": "code"
   },
   "source": "def display_topics(model, feature_names, num_top_words,topic_names=None):\n     # iterate through topics in topic-term matrix, 'H' aka\n    # model.components_\n    for ix, topic in enumerate(model.components_):\n        #print topic, topic number, and top words\n        if not topic_names or not topic_names[ix]:\n            print(\"\\nCompanies \", ix)\n        else:\n            print(\"\\nCompanies: '\",topic_names[ix],\"'\")\n        print(\", \".join([feature_names[i] \\\n             for i in topic.argsort()[:-num_top_words - 1:-1]]))",
   "execution_count": null,
   "outputs": []
  },
  {
   "cell_type": "code",
   "metadata": {
    "tags": [],
    "cell_id": "00025-eec452fb-d225-48c3-8772-63c1c0f5e91a",
    "deepnote_to_be_reexecuted": false,
    "source_hash": "6e8d2f42",
    "execution_start": 1635369158160,
    "execution_millis": 7,
    "deepnote_cell_type": "code"
   },
   "source": "H= nmf.components_",
   "execution_count": null,
   "outputs": []
  },
  {
   "cell_type": "code",
   "metadata": {
    "tags": [],
    "cell_id": "00027-cae520f9-e9ea-41a4-a657-8a1636a2c4e9",
    "deepnote_to_be_reexecuted": false,
    "source_hash": "1e1d56b4",
    "execution_start": 1635369158203,
    "execution_millis": 86,
    "deepnote_cell_type": "code"
   },
   "source": "display_topics(nmf, tfidf_vector.get_feature_names(), 5)",
   "execution_count": null,
   "outputs": [
    {
     "name": "stdout",
     "text": "\nCompanies  0\nhelp, oregon, york, inc, first\n\nCompanies  1\nhealth, care, provider, county, inc\n\nCompanies  2\ninc, oregon, sale, county, founded\n\nCompanies  3\nuniversity, school, oregon, research, college\n\nCompanies  4\ninvestment, financial, firm, market, call\n\nCompanies  5\nllc, oregon, firm, limited, sale\n\nCompanies  6\ndesign, oregon, county, inc, founded\n\nCompanies  7\nprofile, view, linkedin, oregon, limited\n\nCompanies  8\nn, oregon, e, york, inc\n\nCompanies  9\ngroup, oregon, co, th, york\n\nCompanies  10\ncenter, oregon, industry, founded, free\n\nCompanies  11\nschool, high, oregon, york, home\n\nCompanies  12\ncorporation, oregon, product, sale, home\n\nCompanies  13\ncare, oregon, industry, founded, free\n\nCompanies  14\nlimited, oregon, financial, product, address\n\nCompanies  15\noregon, portland, county, inc, founded\n\nCompanies  16\nproduct, health, sale, york, financial\n\nCompanies  17\nco, york, industry, founded, free\n\nCompanies  18\nfirm, client, office, salary, partner\n\nCompanies  19\ninternational, york, inc, first, founded\n\nCompanies  20\ntechnology, solution, product, provider, high\n\nCompanies  21\ndepartment, salary, oregon, research, county\n\nCompanies  22\nsince, home, york, first, founded\n\nCompanies  23\nyork, salary, college, partner, county\n\nCompanies  24\nsolution, system, provider, support, york\n\nCompanies  25\nsystem, county, york, first, founded\n\nCompanies  26\nhome, family, inc, first, founded\n\nCompanies  27\nmedical, patient, college, family, york\n\nCompanies  28\ncollege, student, school, oregon, york\n\nCompanies  29\ne, p, york, founded, free\n\nCompanies  30\nmonth, manager, college, inc, first\n\nCompanies  31\nfinancial, client, co, industry, founded\n\nCompanies  32\nsale, portland, family, financial, first\n\nCompanies  33\nfamily, county, firm, founded, free\n\nCompanies  34\ncounty, college, industry, founded, free\n\nCompanies  35\nday, york, inc, founded, free\n\nCompanies  36\nglobal, market, provider, network, home\n\nCompanies  37\nnetwork, provider, data, york, home\n\nCompanies  38\nnumber, th, york, inc, first\n\nCompanies  39\ndata, provider, york, financial, first\n\nCompanies  40\npartner, firm, market, private, real\n\nCompanies  41\nresearch, health, salary, technology, york\n\nCompanies  42\nunited, th, york, inc, first\n\nCompanies  43\np, c, york, inc, founded\n\nCompanies  44\nsecurity, market, provider, data, first\n\nCompanies  45\nreal, office, market, college, investment\n\nCompanies  46\nproject, manager, development, llc, linkedin\n\nCompanies  47\nnational, oregon, college, technology, york\n\nCompanies  48\nfree, online, york, inc, first\n\nCompanies  49\ncommunity, york, industry, founded, free\n\nCompanies  50\nlife, health, provider, th, york\n\nCompanies  51\nfirst, york, inc, founded, free\n\nCompanies  52\nc, health, college, p, york\n\nCompanies  53\nmarket, inc, first, founded, free\n\nCompanies  54\nindustry, customer, provider, york, first\n\nCompanies  55\nstudent, program, high, technology, financial\n\nCompanies  56\ndevelopment, health, technology, investment, york\n\nCompanies  57\noffice, salary, address, private, high\n\nCompanies  58\npublic, health, oregon, york, home\n\nCompanies  59\ncustomer, provider, online, co, york\n\nCompanies  60\nbest, salary, th, york, home\n\nCompanies  61\nonline, technology, co, industry, founded\n\nCompanies  62\norganization, provider, member, home, first\n\nCompanies  63\nmanager, salary, health, college, home\n\nCompanies  64\npatient, care, medical, salary, center\n\nCompanies  65\nmember, th, york, inc, first\n\nCompanies  66\nprivate, firm, provider, address, investment\n\nCompanies  67\njob, salary, people, part, director\n\nCompanies  68\nth, co, york, inc, first\n\nCompanies  69\npeople, york, home, first, founded\n\nCompanies  70\nprogram, health, salary, education, center\n\nCompanies  71\nhigh, york, inc, first, founded\n\nCompanies  72\ndirector, salary, health, college, co\n\nCompanies  73\ncall, oregon, center, provider, york\n\nCompanies  74\nportland, inc, design, llc, website\n\nCompanies  75\npart, co, york, inc, founded\n\nCompanies  76\nsupport, health, york, inc, first\n\nCompanies  77\nclient, salary, health, provider, full\n\nCompanies  78\neducation, salary, health, university, college\n\nCompanies  79\nwebsite, health, technology, contact, inc\n\nCompanies  80\nprovider, care, medical, salary, center\n\nCompanies  81\nfull, medical, salary, york, home\n\nCompanies  82\nprofessional, linkedin, contact, york, home\n\nCompanies  83\ncontact, york, industry, founded, free\n\nCompanies  84\nwell, salary, health, college, inc\n\nCompanies  85\nuse, health, make, inc, first\n\nCompanies  86\nemployee, salary, health, make, leading\n\nCompanies  87\nmake, salary, need, health, college\n\nCompanies  88\nview, oregon, health, college, york\n\nCompanies  89\nneed, help, quality, york, home\n\nCompanies  90\nlargest, linkedin, health, investment, york\n\nCompanies  91\nquality, salary, provide, york, help\n\nCompanies  92\nsalary, job, employee, life, united\n\nCompanies  93\naddress, phone, health, college, founded\n\nCompanies  94\nfounded, life, first, leading, york\n\nCompanies  95\nleading, industry, provides, technology, global\n\nCompanies  96\nphone, number, college, provides, life\n\nCompanies  97\nprovides, industry, provide, security, york\n\nCompanies  98\nprovide, help, life, college, best\n\nCompanies  99\nlinkedin, view, professional, profile, job\n/shared-libs/python3.7/py/lib/python3.7/site-packages/sklearn/utils/deprecation.py:87: FutureWarning: Function get_feature_names is deprecated; get_feature_names is deprecated in 1.0 and will be removed in 1.2. Please use get_feature_names_out instead.\n  warnings.warn(msg, category=FutureWarning)\n",
     "output_type": "stream"
    }
   ]
  },
  {
   "cell_type": "markdown",
   "source": "# Task 5: Evaluation",
   "metadata": {
    "tags": [],
    "is_collapsed": false,
    "cell_id": "00027-ea4d0d2e-9bc5-4935-b6f6-5d1828f4b280",
    "deepnote_cell_type": "text-cell-h1"
   }
  },
  {
   "cell_type": "markdown",
   "source": "<a style='text-decoration:none;line-height:16px;display:flex;color:#5B5B62;padding:10px;justify-content:end;' href='https://deepnote.com?utm_source=created-in-deepnote-cell&projectId=262b3d28-05ef-49db-b57a-efab2f090880' target=\"_blank\">\n<img alt='Created in deepnote.com' style='display:inline;max-height:16px;margin:0px;margin-right:7.5px;' src='data:image/svg+xml;base64,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' > </img>\nCreated in <span style='font-weight:600;margin-left:4px;'>Deepnote</span></a>",
   "metadata": {
    "tags": [],
    "created_in_deepnote_cell": true,
    "deepnote_cell_type": "markdown"
   }
  }
 ],
 "nbformat": 4,
 "nbformat_minor": 2,
 "metadata": {
  "orig_nbformat": 2,
  "deepnote": {
   "is_reactive": false
  },
  "deepnote_notebook_id": "f30eb679-7b46-4740-97dc-5df2f13d1aa1",
  "deepnote_execution_queue": []
 }
}