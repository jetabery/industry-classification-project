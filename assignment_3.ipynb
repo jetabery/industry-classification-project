{
 "cells": [
  {
   "cell_type": "markdown",
   "source": "# Task 1: Apply at least one model from another group to the dataset to classify the industry and compare the performances",
   "metadata": {
    "tags": [],
    "is_collapsed": false,
    "cell_id": "00000-529f00a7-a968-4f15-9da8-af72c75f02bf",
    "deepnote_cell_type": "text-cell-h1"
   }
  },
  {
   "cell_type": "code",
   "metadata": {
    "tags": [],
    "cell_id": "00000-d7014703-1259-42d6-8e48-92c4b3a50842",
    "deepnote_to_be_reexecuted": false,
    "source_hash": "d5d4045d",
    "execution_start": 1635973676916,
    "execution_millis": 15101,
    "deepnote_cell_type": "code"
   },
   "source": "# Importing Modules\nimport numpy as np\nimport pandas as pd\nimport regex as re\nimport string\nimport unicodedata\nimport nltk\nimport spacy\nimport random\nnltk.download('wordnet')\n!python -m spacy download en_core_web_sm >> /dev/null\nfrom sklearn.feature_extraction.text import CountVectorizer, TfidfVectorizer\nfrom sklearn.decomposition import LatentDirichletAllocation",
   "execution_count": 1,
   "outputs": [
    {
     "name": "stderr",
     "text": "[nltk_data] Downloading package wordnet to /root/nltk_data...\n[nltk_data]   Package wordnet is already up-to-date!\n2021-11-03 21:08:06.326435: W tensorflow/stream_executor/platform/default/dso_loader.cc:60] Could not load dynamic library 'libcudart.so.11.0'; dlerror: libcudart.so.11.0: cannot open shared object file: No such file or directory\n2021-11-03 21:08:06.326474: I tensorflow/stream_executor/cuda/cudart_stub.cc:29] Ignore above cudart dlerror if you do not have a GPU set up on your machine.\n\u001b[33mWARNING: You are using pip version 21.2.4; however, version 21.3.1 is available.\nYou should consider upgrading via the '/root/venv/bin/python -m pip install --upgrade pip' command.\u001b[0m\n",
     "output_type": "stream"
    }
   ]
  },
  {
   "cell_type": "code",
   "metadata": {
    "tags": [],
    "cell_id": "00001-c35c78ff-86e7-4b1c-b439-5708e00018cd",
    "deepnote_to_be_reexecuted": false,
    "source_hash": "5692b294",
    "execution_start": 1635973692024,
    "execution_millis": 1326,
    "deepnote_cell_type": "code"
   },
   "source": "# Reading in data\nraw_data = pd.read_csv('employer_raw_data_group_2.csv')\nsentences = raw_data['description'].values",
   "execution_count": 2,
   "outputs": []
  },
  {
   "cell_type": "code",
   "metadata": {
    "tags": [],
    "cell_id": "00002-534df51a-9199-48ca-8446-665b4f06e189",
    "deepnote_to_be_reexecuted": false,
    "source_hash": "cc5c85e1",
    "execution_start": 1635973693355,
    "execution_millis": 4,
    "deepnote_cell_type": "code"
   },
   "source": "# Setting up Stemmer and Lemmatizer\nstemmer = nltk.stem.SnowballStemmer(\"english\")\nstop_words = []\nwith open(\"stopwords.txt\", \"r\") as f_in:\n        stop_words = [i.strip().lower() for i in f_in.readlines()]\nlemmatizer = nltk.stem.WordNetLemmatizer()",
   "execution_count": 3,
   "outputs": []
  },
  {
   "cell_type": "code",
   "metadata": {
    "tags": [],
    "cell_id": "00003-052e8f1d-090f-4758-8898-d65e294cac42",
    "deepnote_to_be_reexecuted": false,
    "source_hash": "e74b2fbb",
    "execution_start": 1635973693370,
    "execution_millis": 1,
    "deepnote_cell_type": "code"
   },
   "source": "# Creating Preprocessing function\ndef get_preprocessing_function(\n    use_lower: bool = True,\n    use_alpha: bool = True,\n    use_stemming: bool = False,\n    use_nodates: bool = False,\n    use_nourl: bool = True,\n    use_stopwords: bool=False,\n    use_lemmatizer: bool=False,\n    use_nocity: bool=False\n):\n    \n    def alpha(text: str):\n        return re.sub(\"[^a-z]+\", \" \", text) if use_alpha else text\n\n    def lower(text: str):\n        return text.lower() if use_lower else text\n        \n    def stemming(text: str):\n        if use_stemming:\n            text = ' '.join(stemmer.stem(x) for x in text.split())\n        return text\n    \n    def dates(text: str):\n        dates = ['january', 'february', 'march', 'april', 'may', 'june', 'july', 'august', 'september', 'october', 'november', 'december', 'jan', 'feb', 'mar', 'apr', 'may', 'jun', 'jul', 'aug', 'sep', \n    'sept', 'oct', 'nov', 'dec'] #added abbreviations to the months list\n        return \" \".join([word for word in text.split(\" \") if word not in dates]) if use_nodates else text\n\n    def url(text: str):\n        url_pattern = re.compile('\\\\S*\\\\.com\\\\b|https?://\\S+|www\\.\\S+')\n        return url_pattern.sub('', text) if use_nourl else text\n    \n    def remove_stopwords(text):\n        return \" \".join([word for word in text.split(\" \") if word not in stop_words]) if use_stopwords else text\n    \n    def lemmatize(text: str):\n        if use_lemmatizer:\n            text=' '.join(lemmatizer.lemmatize(x) for x in text.split())\n        return text\n    \n    def cityremover(text: str):\n        city_state_pattern = re.compile(\"(?<![A-Za-z])[A-Z][a-z]+, [A-Z]{2}(?![A-Za-z])\") # Matches strings like \"Nashville, TN\"\n        return city_state_pattern.sub('city', text) if use_nocity else text\n\n    def preprocess(text: str):\n        #Create list of steps\n        steps = [lower,url, alpha, dates, cityremover, remove_stopwords, lemmatize, stemming]\n        for step in steps:\n            text = step(text)\n        return text\n    \n    return preprocess",
   "execution_count": 4,
   "outputs": []
  },
  {
   "cell_type": "code",
   "metadata": {
    "tags": [],
    "cell_id": "00004-1caf86dc-9451-4b6d-8360-af602b264ab1",
    "deepnote_to_be_reexecuted": false,
    "source_hash": "e20131b0",
    "execution_start": 1635973693377,
    "execution_millis": 2,
    "deepnote_cell_type": "code"
   },
   "source": "# Instantiating preprocessing function\npreprocess = get_preprocessing_function(\n    use_lower= True,\n    use_alpha= True,\n    use_stemming= False,\n    use_nodates= True,\n    use_nourl= True,\n    use_stopwords= True,\n    use_lemmatizer= True,\n    use_nocity=True\n)",
   "execution_count": 5,
   "outputs": []
  },
  {
   "cell_type": "code",
   "metadata": {
    "tags": [],
    "cell_id": "00005-8a170af0-61e9-459f-a4a9-93278ed38776",
    "deepnote_to_be_reexecuted": false,
    "source_hash": "cc80dc76",
    "execution_start": 1635973693383,
    "execution_millis": 138896,
    "deepnote_cell_type": "code"
   },
   "source": "# Preprocessing data\npreprocessed_data=raw_data\npreprocessed_data['description'] = preprocessed_data['description'].apply(preprocess)",
   "execution_count": 6,
   "outputs": []
  },
  {
   "cell_type": "code",
   "metadata": {
    "tags": [],
    "cell_id": "00006-b66ad2f3-1e87-4603-8499-1da38e559da4",
    "deepnote_to_be_reexecuted": false,
    "source_hash": "96adecbb",
    "execution_start": 1635973832279,
    "execution_millis": 3387765,
    "deepnote_cell_type": "code"
   },
   "source": "print(preprocessed_data['description'].loc[100])",
   "execution_count": 7,
   "outputs": [
    {
     "name": "stdout",
     "text": "rehababilities designed mind therapist owned speak language value high clinical standard ethic pride qualified experienced scheduling team therapy personnel social worker dedicated providing excellent patient care physical therapist assistant inpatient outpatient former employee corona ca rehababilities pro white male racist company accepting assignment assignment often taken away given white male replacement assignment lieu withdrawn assignment additional compensation work well rehababilities people know best inside scoop job salary top office location ceo insight compare pay popular role read team work life balance uncover rehababilities best company review rehababilities experiencing staffing agency would longer using type service longer initial hr assistance reached screened nice recruiter mark quite pushy disrespectful know staffing agency commission like car sale people matched hired rehababilities new mexico foreign profit corporation filed company filing status listed revoked final file number registered agent file company michael jones located zuni rd se albuquerque nm rehababilities operates non profit organization company offer occupational physical marriage family therapy speech language pathology case avenue rancho cucamonga ca website rehababilities offer comprehensive range service need medical assistance rancho cucamonga ca keep circulation flowing muscle eased massage clinic rehababilities social service professional review updated recommend friend kim ozias jones rating trust top concern company alter remove review average rehababilities social service professional hourly pay range approximately social worker social worker rehababilities social service professional employee rate overall compensation benefit package star listing related rehababilities rancho cucamonga review photo direction phone number rehababilities location rancho cucamonga ca rehababilities hourly rate free salary comparison based job title skill experience education accurate reliable salary compensation comparison united state supplier spotlight rehababilities marketing supplier company location rancho cucamonga ca type staffing allied social work name susan westin job title rehab staffing manager rehababilities present year month rancho cucamonga hr recruiter artic mechanical month sr consultant frederick andrew site phone fax address ste rancho cucamonga ca mailing rancho cucamonga ca state id business type foreign profit corporation rehababilities located ste rancho cucamonga additional information available contacting kimberly jones rehababilities rehab therapy staffing job california visit website therapy job opportunity rehababilities rehabilitation social work staffing company handle multifaceted administrative need provide support executive account management client relation national acquisition center contract catalog search tool allows facility browse medsurg pharmaceutical product service available federal supply service contract search tool allows user locate item using variety search criterion including item description special item number sin contract number national acquisition center contract catalog search tool allows facility browse medsurg pharmaceutical product service available federal supply service contract search tool allows user locate item using variety search criterion including item description special item number sin contract number\n",
     "output_type": "stream"
    }
   ]
  },
  {
   "cell_type": "code",
   "metadata": {
    "tags": [],
    "cell_id": "00007-f280ccb1-3f08-4fa3-a1f7-da3c324cb00e",
    "deepnote_to_be_reexecuted": false,
    "source_hash": "b4f42ffa",
    "execution_start": 1635973832280,
    "execution_millis": 315,
    "deepnote_cell_type": "code"
   },
   "source": "# Setting up vectorizer\n# We're using CountVectorizer because, from what I've read, it works better with LDA than tf_idf would\ncount_vectorizer = CountVectorizer(\n    preprocessor=preprocess,\n    ngram_range=(1,1),\n    tokenizer=lambda s: s.split(),\n    min_df=0.15, # Maybe 2 to 4 would be better. 0.15 is too big\n    max_df=0.45  \n)",
   "execution_count": 8,
   "outputs": []
  },
  {
   "cell_type": "code",
   "metadata": {
    "tags": [],
    "cell_id": "00008-935c7938-68bf-436c-918d-93bfcebaaa25",
    "deepnote_to_be_reexecuted": false,
    "source_hash": "56dd5b28",
    "execution_start": 1635973832613,
    "execution_millis": 180209,
    "deepnote_cell_type": "code"
   },
   "source": "# Fitting vectorizer and transforming sentences\ncount_vec = count_vectorizer.fit_transform(sentences)",
   "execution_count": 9,
   "outputs": []
  },
  {
   "cell_type": "code",
   "metadata": {
    "tags": [],
    "cell_id": "00010-0917f766-cb59-48ce-9bed-525ec1bdd4f3",
    "deepnote_to_be_reexecuted": false,
    "source_hash": "9bbaafa",
    "execution_start": 1635974012823,
    "execution_millis": 361682,
    "deepnote_cell_type": "code"
   },
   "source": "vec = count_vectorizer.fit(sentences)\nvectors = count_vectorizer.transform(sentences)",
   "execution_count": 10,
   "outputs": [
    {
     "name": "stderr",
     "text": "/shared-libs/python3.7/py/lib/python3.7/site-packages/sklearn/feature_extraction/text.py:517: UserWarning: The parameter 'token_pattern' will not be used since 'tokenizer' is not None'\n  \"The parameter 'token_pattern' will not be used\"\n",
     "output_type": "stream"
    }
   ]
  },
  {
   "cell_type": "code",
   "metadata": {
    "tags": [],
    "cell_id": "00009-8c0287ca-a280-43e3-abb6-a715cf1a51e9",
    "deepnote_to_be_reexecuted": false,
    "source_hash": "ad3064d1",
    "execution_start": 1635974374547,
    "execution_millis": 51,
    "deepnote_cell_type": "code"
   },
   "source": "print(count_vec.todense())\nprint(count_vec.todense().shape)",
   "execution_count": 11,
   "outputs": [
    {
     "name": "stdout",
     "text": "[[0 0 0 ... 0 1 0]\n [0 0 0 ... 0 0 0]\n [0 1 0 ... 0 1 0]\n ...\n [0 0 0 ... 0 0 0]\n [0 0 0 ... 0 0 0]\n [0 0 0 ... 0 0 0]]\n(20000, 273)\n",
     "output_type": "stream"
    }
   ]
  },
  {
   "cell_type": "code",
   "metadata": {
    "tags": [],
    "cell_id": "00010-604afa3a-c40f-4980-b3ea-054a271619a1",
    "deepnote_to_be_reexecuted": false,
    "source_hash": "6834fe18",
    "execution_start": 1635974374597,
    "execution_millis": 2,
    "deepnote_cell_type": "code"
   },
   "source": "sorted(count_vectorizer.vocabulary_.items(),key=lambda x: x[1])",
   "execution_count": 12,
   "outputs": [
    {
     "output_type": "execute_result",
     "execution_count": 12,
     "data": {
      "text/plain": "[('access', 0),\n ('account', 1),\n ('across', 2),\n ('active', 3),\n ('activity', 4),\n ('address', 5),\n ('america', 6),\n ('american', 7),\n ('application', 8),\n ('apply', 9),\n ('around', 10),\n ('art', 11),\n ('available', 12),\n ('b', 13),\n ('back', 14),\n ('balance', 15),\n ('benefit', 16),\n ('best', 17),\n ('better', 18),\n ('board', 19),\n ('brand', 20),\n ('building', 21),\n ('c', 22),\n ('ca', 23),\n ('california', 24),\n ('call', 25),\n ('care', 26),\n ('career', 27),\n ('center', 28),\n ('ceo', 29),\n ('change', 30),\n ('class', 31),\n ('client', 32),\n ('college', 33),\n ('come', 34),\n ('commercial', 35),\n ('committed', 36),\n ('community', 37),\n ('complete', 38),\n ('connect', 39),\n ('connection', 40),\n ('contact', 41),\n ('corporate', 42),\n ('corporation', 43),\n ('cost', 44),\n ('country', 45),\n ('county', 46),\n ('covid', 47),\n ('create', 48),\n ('culture', 49),\n ('current', 50),\n ('currently', 51),\n ('customer', 52),\n ('data', 53),\n ('date', 54),\n ('day', 55),\n ('dedicated', 56),\n ('department', 57),\n ('design', 58),\n ('designed', 59),\n ('detail', 60),\n ('development', 61),\n ('direction', 62),\n ('director', 63),\n ('discover', 64),\n ('dr', 65),\n ('e', 66),\n ('education', 67),\n ('email', 68),\n ('employee', 69),\n ('environment', 70),\n ('established', 71),\n ('event', 72),\n ('every', 73),\n ('executive', 74),\n ('expert', 75),\n ('facility', 76),\n ('family', 77),\n ('financial', 78),\n ('firm', 79),\n ('focus', 80),\n ('follower', 81),\n ('following', 82),\n ('form', 83),\n ('free', 84),\n ('full', 85),\n ('general', 86),\n ('give', 87),\n ('global', 88),\n ('go', 89),\n ('goal', 90),\n ('good', 91),\n ('great', 92),\n ('group', 93),\n ('health', 94),\n ('help', 95),\n ('high', 96),\n ('history', 97),\n ('home', 98),\n ('include', 99),\n ('includes', 100),\n ('individual', 101),\n ('industry', 102),\n ('inside', 103),\n ('insight', 104),\n ('international', 105),\n ('investment', 106),\n ('job', 107),\n ('join', 108),\n ('k', 109),\n ('know', 110),\n ('known', 111),\n ('l', 112),\n ('largest', 113),\n ('last', 114),\n ('latest', 115),\n ('law', 116),\n ('leader', 117),\n ('leading', 118),\n ('learn', 119),\n ('level', 120),\n ('life', 121),\n ('limited', 122),\n ('line', 123),\n ('linkedin', 124),\n ('list', 125),\n ('listed', 126),\n ('llc', 127),\n ('local', 128),\n ('long', 129),\n ('look', 130),\n ('looking', 131),\n ('made', 132),\n ('main', 133),\n ('manager', 134),\n ('many', 135),\n ('market', 136),\n ('marketing', 137),\n ('medical', 138),\n ('medium', 139),\n ('meet', 140),\n ('member', 141),\n ('million', 142),\n ('mission', 143),\n ('month', 144),\n ('n', 145),\n ('name', 146),\n ('national', 147),\n ('need', 148),\n ('network', 149),\n ('news', 150),\n ('non', 151),\n ('north', 152),\n ('number', 153),\n ('offering', 154),\n ('office', 155),\n ('online', 156),\n ('open', 157),\n ('operation', 158),\n ('opportunity', 159),\n ('option', 160),\n ('order', 161),\n ('oregon', 162),\n ('organization', 163),\n ('owned', 164),\n ('owner', 165),\n ('p', 166),\n ('page', 167),\n ('part', 168),\n ('partner', 169),\n ('patient', 170),\n ('pay', 171),\n ('people', 172),\n ('personal', 173),\n ('phone', 174),\n ('photo', 175),\n ('place', 176),\n ('plan', 177),\n ('please', 178),\n ('pm', 179),\n ('portland', 180),\n ('position', 181),\n ('practice', 182),\n ('present', 183),\n ('president', 184),\n ('price', 185),\n ('private', 186),\n ('process', 187),\n ('product', 188),\n ('professional', 189),\n ('profile', 190),\n ('program', 191),\n ('project', 192),\n ('provide', 193),\n ('provider', 194),\n ('provides', 195),\n ('providing', 196),\n ('public', 197),\n ('quality', 198),\n ('r', 199),\n ('range', 200),\n ('rating', 201),\n ('rd', 202),\n ('read', 203),\n ('real', 204),\n ('registered', 205),\n ('related', 206),\n ('report', 207),\n ('research', 208),\n ('resource', 209),\n ('result', 210),\n ('right', 211),\n ('road', 212),\n ('role', 213),\n ('salary', 214),\n ('sale', 215),\n ('school', 216),\n ('science', 217),\n ('search', 218),\n ('security', 219),\n ('senior', 220),\n ('serving', 221),\n ('set', 222),\n ('share', 223),\n ('show', 224),\n ('since', 225),\n ('site', 226),\n ('small', 227),\n ('social', 228),\n ('solution', 229),\n ('south', 230),\n ('staff', 231),\n ('start', 232),\n ('status', 233),\n ('street', 234),\n ('student', 235),\n ('suite', 236),\n ('support', 237),\n ('system', 238),\n ('take', 239),\n ('talking', 240),\n ('technology', 241),\n ('term', 242),\n ('three', 243),\n ('throughout', 244),\n ('today', 245),\n ('top', 246),\n ('total', 247),\n ('training', 248),\n ('two', 249),\n ('type', 250),\n ('u', 251),\n ('unique', 252),\n ('united', 253),\n ('university', 254),\n ('use', 255),\n ('used', 256),\n ('using', 257),\n ('value', 258),\n ('variety', 259),\n ('view', 260),\n ('visit', 261),\n ('w', 262),\n ('way', 263),\n ('website', 264),\n ('week', 265),\n ('welcome', 266),\n ('well', 267),\n ('west', 268),\n ('wide', 269),\n ('within', 270),\n ('working', 271),\n ('would', 272)]"
     },
     "metadata": {}
    }
   ]
  },
  {
   "cell_type": "code",
   "metadata": {
    "tags": [],
    "cell_id": "00001-366141c2-3af1-4520-94ab-09cc2b75013f",
    "deepnote_to_be_reexecuted": false,
    "source_hash": "d3cea384",
    "execution_start": 1635974374600,
    "execution_millis": 2,
    "deepnote_cell_type": "code"
   },
   "source": "# Setting up LDA\nlda = LatentDirichletAllocation(\n    n_components=20\n)",
   "execution_count": 13,
   "outputs": []
  },
  {
   "cell_type": "code",
   "metadata": {
    "tags": [],
    "cell_id": "00013-ffbe84fc-31f1-412c-b4c0-e7f2b95b4b40",
    "deepnote_to_be_reexecuted": false,
    "source_hash": "56722ef9",
    "execution_start": 1635974374607,
    "execution_millis": 184941,
    "deepnote_cell_type": "code"
   },
   "source": "lda.fit(count_vec)",
   "execution_count": 14,
   "outputs": [
    {
     "output_type": "execute_result",
     "execution_count": 14,
     "data": {
      "text/plain": "LatentDirichletAllocation(n_components=20)"
     },
     "metadata": {}
    }
   ]
  },
  {
   "cell_type": "code",
   "metadata": {
    "tags": [],
    "cell_id": "00014-107c58e0-55da-41fa-87d3-8ec275d0a308",
    "deepnote_to_be_reexecuted": false,
    "source_hash": "1becc5eb",
    "execution_start": 1635974559547,
    "execution_millis": 11576,
    "deepnote_cell_type": "code"
   },
   "source": "company_lda_vec = lda.transform(count_vec)\nprint(company_lda_vec)\nprint(company_lda_vec.shape)",
   "execution_count": 15,
   "outputs": [
    {
     "name": "stdout",
     "text": "[[2.87016081e-02 2.56236671e-01 3.08641980e-04 ... 3.08641982e-04\n  3.03107328e-01 3.08641984e-04]\n [1.09518164e-01 1.06207762e-01 5.68181831e-04 ... 5.68181836e-04\n  5.68181825e-04 5.68181831e-04]\n [4.71698120e-04 4.71698127e-04 4.71698121e-04 ... 4.71698120e-04\n  4.71698117e-04 1.67413211e-02]\n ...\n [2.04184960e-02 8.62068976e-04 8.62068976e-04 ... 8.62068972e-04\n  8.62068977e-04 8.62068973e-04]\n [3.18471350e-04 3.18471349e-04 3.18471347e-04 ... 5.06348592e-02\n  5.12380267e-01 3.18471344e-04]\n [5.15463928e-04 5.15463929e-04 3.00311311e-01 ... 3.52902316e-02\n  5.15463926e-04 5.15463923e-04]]\n(20000, 20)\n",
     "output_type": "stream"
    }
   ]
  },
  {
   "cell_type": "code",
   "metadata": {
    "tags": [],
    "cell_id": "00014-958ac757-14fa-438d-b6b5-7ace3ff4b865",
    "deepnote_to_be_reexecuted": false,
    "source_hash": "4bfeeb75",
    "execution_start": 1635974571102,
    "execution_millis": 9,
    "deepnote_cell_type": "code"
   },
   "source": "def display_topics(model, feature_names, num_top_words,topic_names=None):\n     # iterate through topics in topic-term matrix, 'H' aka\n    # model.components_\n    for ix, topic in enumerate(model.components_):\n        #print topic, topic number, and top words\n        if not topic_names or not topic_names[ix]:\n            print(\"\\nCompanies \", ix)\n        else:\n            print(\"\\nCompanies: '\",topic_names[ix],\"'\")\n        print(\", \".join([feature_names[i] \\\n             for i in topic.argsort()[:-num_top_words - 1:-1]]))",
   "execution_count": 16,
   "outputs": []
  },
  {
   "cell_type": "code",
   "metadata": {
    "tags": [],
    "cell_id": "00014-44ec23d1-7d86-4161-b13f-09cbe2fa52ac",
    "deepnote_to_be_reexecuted": false,
    "source_hash": "90365c40",
    "execution_start": 1635974571119,
    "execution_millis": 544,
    "deepnote_cell_type": "code"
   },
   "source": "display_topics(lda, count_vectorizer.get_feature_names(), 6)",
   "execution_count": 17,
   "outputs": [
    {
     "name": "stdout",
     "text": "\nCompanies  0\ngroup, limited, registered, private, office, global\n\nCompanies  1\ntechnology, solution, data, industry, system, global\n\nCompanies  2\njob, salary, office, employee, people, ca\n\nCompanies  3\nhome, manager, real, sale, west, project\n\nCompanies  4\nportland, day, best, free, oregon, place\n\nCompanies  5\ndepartment, county, public, national, united, office\n\nCompanies  6\nlaw, firm, c, client, p, practice\n\nCompanies  7\ninvestment, financial, partner, firm, private, client\n\nCompanies  8\nschool, student, education, high, program, public\n\nCompanies  9\nmedical, center, health, care, patient, dr\n\nCompanies  10\nphone, number, contact, direction, address, website\n\nCompanies  11\nhealth, care, family, community, home, patient\n\nCompanies  12\ncorporation, system, design, product, industry, project\n\nCompanies  13\ne, n, l, r, c, b\n\nCompanies  14\nnetwork, marketing, medium, social, account, brand\n\nCompanies  15\nproduct, america, american, brand, market, price\n\nCompanies  16\nprofile, linkedin, professional, view, job, community\n\nCompanies  17\nresearch, international, science, development, organization, global\n\nCompanies  18\nllc, security, registered, employee, number, status\n\nCompanies  19\nuniversity, college, student, program, education, art\n/shared-libs/python3.7/py/lib/python3.7/site-packages/sklearn/utils/deprecation.py:87: FutureWarning: Function get_feature_names is deprecated; get_feature_names is deprecated in 1.0 and will be removed in 1.2. Please use get_feature_names_out instead.\n  warnings.warn(msg, category=FutureWarning)\n",
     "output_type": "stream"
    }
   ]
  },
  {
   "cell_type": "markdown",
   "source": "#### We have now successfully vectorized the company description. Let's do the same for the industry descriptions",
   "metadata": {
    "tags": [],
    "cell_id": "00016-a778d84f-64be-483b-8641-80a65bc4f78a",
    "deepnote_cell_type": "markdown"
   }
  },
  {
   "cell_type": "code",
   "metadata": {
    "tags": [],
    "cell_id": "00017-f28eb889-e107-4311-a88a-539a859c685d",
    "deepnote_to_be_reexecuted": false,
    "source_hash": "d7c65ac6",
    "execution_start": 1635974571710,
    "execution_millis": 422,
    "deepnote_cell_type": "code"
   },
   "source": "industry_data = pd.read_csv('industry_data.csv')\nindustry_descriptions = industry_data['description'].values",
   "execution_count": 18,
   "outputs": []
  },
  {
   "cell_type": "code",
   "metadata": {
    "tags": [],
    "cell_id": "00018-74afb0e7-5f85-4055-8546-9fd813827cab",
    "deepnote_to_be_reexecuted": false,
    "source_hash": "c032ee47",
    "execution_start": 1635974572140,
    "execution_millis": 221,
    "deepnote_cell_type": "code"
   },
   "source": "industry_count_vec = count_vectorizer.transform(industry_descriptions)",
   "execution_count": 19,
   "outputs": []
  },
  {
   "cell_type": "code",
   "metadata": {
    "tags": [],
    "cell_id": "00019-2535347f-591a-476b-a9df-0f163ecc6d04",
    "deepnote_to_be_reexecuted": false,
    "source_hash": "b6d4fdb",
    "execution_start": 1635974572368,
    "execution_millis": 3607556,
    "deepnote_cell_type": "code"
   },
   "source": "print(industry_count_vec.todense())\nprint(industry_count_vec.todense().shape)",
   "execution_count": 20,
   "outputs": [
    {
     "name": "stdout",
     "text": "[[2 5 3 ... 2 2 0]\n [0 0 5 ... 1 0 0]\n [2 2 1 ... 2 1 1]\n ...\n [1 0 2 ... 0 2 0]\n [1 1 1 ... 2 1 0]\n [2 0 2 ... 2 1 0]]\n(13, 273)\n",
     "output_type": "stream"
    }
   ]
  },
  {
   "cell_type": "code",
   "metadata": {
    "tags": [],
    "cell_id": "00020-a3588f15-fd0e-48f1-9917-990a08e9f6a2",
    "deepnote_to_be_reexecuted": false,
    "source_hash": "c4f90312",
    "execution_start": 1635974572374,
    "execution_millis": 26,
    "deepnote_cell_type": "code"
   },
   "source": "industry_lda_vec = lda.transform(industry_count_vec)\nprint(industry_lda_vec)\nprint(industry_lda_vec.shape)",
   "execution_count": 21,
   "outputs": [
    {
     "name": "stdout",
     "text": "[[1.31233598e-04 2.14479348e-01 1.31233599e-04 1.31233600e-04\n  8.75069016e-02 2.27954721e-02 1.31233598e-04 4.91376038e-01\n  4.05608470e-02 1.31233600e-04 7.80502298e-02 1.32068656e-02\n  5.04494953e-02 1.31233597e-04 1.31233600e-04 1.31233598e-04\n  1.31233598e-04 1.31233599e-04 1.31233599e-04 1.31233598e-04]\n [2.36336059e-02 2.38636119e-01 1.88679249e-04 9.25167249e-02\n  1.20741749e-01 3.76146084e-02 1.88679249e-04 3.63654583e-02\n  1.88679248e-04 1.92189673e-02 1.88679250e-04 1.88679250e-04\n  1.38666193e-01 1.88679249e-04 3.85869435e-02 1.92813455e-01\n  1.88679249e-04 1.40558084e-02 1.88679249e-04 4.56409336e-02]\n [8.31487768e-03 1.24427596e-01 1.49700602e-04 1.49700602e-04\n  3.15901011e-01 1.44916982e-01 1.49700604e-04 4.31986548e-02\n  1.32196459e-02 1.49700602e-04 6.06282086e-02 2.46150202e-02\n  6.22232887e-02 5.20544614e-03 8.35919129e-02 1.49700602e-04\n  1.49700601e-04 1.49700602e-04 4.41778268e-02 6.85316249e-02]\n [1.56250002e-04 2.25789939e-01 1.56250004e-04 1.54522600e-02\n  2.04688385e-01 4.58048735e-02 1.54643229e-02 1.56250002e-04\n  4.55109150e-02 1.56250004e-04 8.22949969e-02 1.56250003e-04\n  8.74402636e-02 1.56250004e-04 1.56250005e-04 1.85901965e-01\n  1.56250003e-04 1.50354731e-02 1.56250002e-04 7.52103563e-02]\n [1.59744412e-04 6.86463462e-01 1.59744413e-04 1.50083449e-02\n  7.97342380e-02 7.49585101e-02 1.59744414e-04 1.59744414e-04\n  1.59744412e-04 1.59744412e-04 1.59744413e-04 6.80813039e-03\n  6.69227355e-02 1.59744410e-04 1.59744413e-04 3.15938790e-02\n  1.59744412e-04 1.59744412e-04 1.59744411e-04 3.65937673e-02]\n [2.86458030e-02 1.09060063e-01 8.61634965e-02 1.77304970e-04\n  2.93772917e-01 2.96481400e-01 3.19611637e-02 1.77304968e-04\n  1.77304969e-04 1.77304969e-04 6.91995307e-02 2.03358899e-02\n  1.77304969e-04 1.77304969e-04 6.24293812e-02 1.77304969e-04\n  1.77304968e-04 1.77304971e-04 1.77304967e-04 1.77304969e-04]\n [2.70022015e-02 8.24141565e-02 1.21359226e-04 5.25165929e-01\n  1.39746528e-01 1.21359225e-04 4.42230488e-02 3.17046826e-02\n  7.73494821e-03 1.21359225e-04 1.21359226e-04 1.21359225e-04\n  1.21359226e-04 1.21359225e-04 1.21359226e-04 7.01752981e-02\n  1.21359227e-04 6.63660931e-02 1.21359226e-04 4.25352215e-03]\n [1.52030701e-02 1.27226465e-04 4.03877012e-02 1.27226466e-04\n  1.27583505e-01 2.15292019e-01 1.27226467e-04 3.77738426e-02\n  1.27226465e-04 1.27226466e-04 1.27226466e-04 5.15722946e-03\n  1.24876541e-01 1.27226465e-04 1.27226468e-04 1.27226466e-04\n  1.27226466e-04 3.49761440e-01 8.25651608e-02 1.27226465e-04]\n [1.74216036e-04 4.39033867e-01 1.74216031e-04 1.74216032e-04\n  1.08551660e-01 5.59407190e-02 1.00050438e-02 1.74216033e-04\n  1.74216030e-04 5.29481104e-03 1.74216033e-04 1.74216031e-04\n  2.63340311e-01 1.74216033e-04 1.74216033e-04 1.15568780e-01\n  1.74216030e-04 1.74216033e-04 1.74216031e-04 1.74216031e-04]\n [3.90625006e-04 1.12504539e-01 3.90625009e-04 3.90625007e-04\n  1.15046326e-01 1.54645326e-01 3.90625018e-04 3.90625005e-04\n  4.82974005e-01 3.90625006e-04 3.90625008e-04 3.52346875e-02\n  3.90625008e-04 3.90625033e-04 3.90625008e-04 3.90625008e-04\n  3.90625003e-04 4.20459159e-02 3.90625005e-04 5.24710754e-02]\n [1.42206348e-02 2.32168496e-01 1.33689842e-04 1.33689842e-04\n  1.33689843e-04 1.33689843e-04 1.33689842e-04 1.20089745e-02\n  1.33689843e-04 1.33689841e-04 1.33689842e-04 1.33689842e-04\n  8.36646694e-02 1.02188831e-02 5.78076560e-01 1.33689843e-04\n  1.33689843e-04 1.33689842e-04 1.33689842e-04 6.79038137e-02]\n [1.46627568e-04 1.47630015e-01 1.46627570e-04 1.46627569e-04\n  1.31137800e-01 3.00138192e-01 1.07125690e-01 4.76305348e-02\n  1.46627569e-04 1.46627569e-04 1.16818868e-01 4.98977235e-02\n  1.46627570e-04 1.46627570e-04 1.46627569e-04 7.41726899e-02\n  1.46627568e-04 2.38355837e-02 1.46627568e-04 1.46627569e-04]\n [2.30557318e-02 1.30762189e-01 1.50602414e-04 1.50602412e-04\n  1.50602413e-04 1.50602414e-04 1.21420988e-02 6.89991332e-03\n  1.50602412e-04 9.64893640e-02 1.50602413e-04 3.36532597e-01\n  1.50602413e-04 1.50602413e-04 1.50602414e-04 2.08157760e-01\n  1.12598975e-02 1.73043823e-01 1.50602412e-04 1.50602412e-04]]\n(13, 20)\n",
     "output_type": "stream"
    }
   ]
  },
  {
   "cell_type": "markdown",
   "source": "#### Next, we need to find which industry each company most closely matches",
   "metadata": {
    "tags": [],
    "cell_id": "00022-9bded9e1-e0ac-4fd3-aea4-122b1393efa6",
    "deepnote_cell_type": "markdown"
   }
  },
  {
   "cell_type": "code",
   "metadata": {
    "tags": [],
    "cell_id": "00022-919514e3-5595-40c3-be12-2016b8beeeae",
    "deepnote_to_be_reexecuted": false,
    "source_hash": "96b7be1a",
    "execution_start": 1635974572407,
    "execution_millis": 63,
    "deepnote_cell_type": "code"
   },
   "source": "# First, we'll normalize all of the rows in company_lda_vec and industry_lda_vec\n# Next, we'll multiply company_lda_vec with the transpose of industry_lda_vec\n# This will yield a matrix with 20000 rows and 13 columns.\n# Each row corresponds to a company\n# Each column is the company's \"similarity score\" to the corresponding industry\n\nfrom sklearn.preprocessing import normalize\ncompany_lda_vec = normalize(company_lda_vec, axis = 1)\nindustry_lda_vec = normalize(industry_lda_vec, axis = 1)\n\nsimilarity_matrix = company_lda_vec @ industry_lda_vec.T\nprint(similarity_matrix)\nprint(similarity_matrix.shape)",
   "execution_count": 22,
   "outputs": [
    {
     "name": "stdout",
     "text": "[[0.1755873  0.65074731 0.20114158 ... 0.1672602  0.29539351 0.45264318]\n [0.37788264 0.29949586 0.13120179 ... 0.11342121 0.14669239 0.15453416]\n [0.11692364 0.30550277 0.72092866 ... 0.60477908 0.23756838 0.00890851]\n ...\n [0.2027018  0.16273876 0.5251802  ... 0.00283506 0.41189053 0.00445648]\n [0.18580231 0.10559776 0.21441768 ... 0.02472229 0.16308395 0.06315586]\n [0.0465408  0.04746313 0.06004903 ... 0.01372661 0.09729599 0.02703805]]\n(20000, 13)\n",
     "output_type": "stream"
    }
   ]
  },
  {
   "cell_type": "code",
   "metadata": {
    "tags": [],
    "cell_id": "00024-ce85d4ec-3ec1-4617-a089-4b9b6f6461ed",
    "deepnote_to_be_reexecuted": false,
    "source_hash": "a8f55bdf",
    "execution_start": 1635974572462,
    "execution_millis": 692,
    "deepnote_cell_type": "code"
   },
   "source": "# Now, we can take the argmax to find which industry each company best fits\nindustry_classifications = np.argmax(similarity_matrix, axis = 1)\n\nimport matplotlib.pyplot as plt\nimport seaborn as sns\nsns.histplot(industry_classifications, bins = 13)",
   "execution_count": 23,
   "outputs": [
    {
     "output_type": "execute_result",
     "execution_count": 23,
     "data": {
      "text/plain": "<AxesSubplot:ylabel='Count'>"
     },
     "metadata": {}
    },
    {
     "data": {
      "text/plain": "<Figure size 432x288 with 1 Axes>",
      "image/png": "[encoded data removed]"
     },
     "metadata": {
      "needs_background": "light",
      "image/png": {
       "width": 395,
       "height": 248
      }
     },
     "output_type": "display_data"
    }
   ]
  },
  {
   "cell_type": "code",
   "metadata": {
    "tags": [],
    "cell_id": "00025-8d85244d-a18c-45dc-bd40-d3c76c31b7a1",
    "deepnote_to_be_reexecuted": false,
    "source_hash": "470359f9",
    "execution_start": 1635974573159,
    "execution_millis": 256,
    "deepnote_cell_type": "code"
   },
   "source": "prediction_data = raw_data\n\nprediction_data['prediction_num'] = industry_classifications\n\nnum_to_industry = lambda x: industry_data['industry'].loc[x]\n\nprediction_data['prediction'] = prediction_data['prediction_num'].apply(num_to_industry)",
   "execution_count": 24,
   "outputs": []
  },
  {
   "cell_type": "code",
   "metadata": {
    "tags": [],
    "cell_id": "00026-b600a702-7413-44c5-a980-34744fcb6ad3",
    "deepnote_to_be_reexecuted": false,
    "source_hash": "e3c2025",
    "execution_start": 1635974573420,
    "execution_millis": 25,
    "deepnote_cell_type": "code"
   },
   "source": "raw_data.sample(5)",
   "execution_count": 25,
   "outputs": [
    {
     "output_type": "execute_result",
     "execution_count": 25,
     "data": {
      "application/vnd.deepnote.dataframe.v2+json": {
       "row_count": 5,
       "column_count": 4,
       "columns": [
        {
         "name": "employers",
         "dtype": "object",
         "stats": {
          "unique_count": 5,
          "nan_count": 0,
          "categories": [
           {
            "name": "clark hill law firm",
            "count": 1
           },
           {
            "name": "new york state athletic commission",
            "count": 1
           },
           {
            "name": "3 others",
            "count": 3
           }
          ]
         }
        },
        {
         "name": "description",
         "dtype": "object",
         "stats": {
          "unique_count": 5,
          "nan_count": 0,
          "categories": [
           {
            "name": "corporate law healthcare law clark hill full service commercial law firm whatever legal challenge business face review clark law associate worked closely law office jennie clark two year highly recommend get paid trouble collecting insurance company get settlement client car accident patient used personal legal issue found knowledgeable law annie nelson jd annie nelson jd named partner karnopp petersen llp full service business law firm based bend oregon nelson firm since practice primarily area trust estate regularly advises client estate planning probate trust administration working newspaper reporter daily hampshire gazette northampton moved portland earn law degree lewis clark college jim diverse legal experience includes working small firm coo bay oregon well working litigator one portland largest law firm sw ninth suite portland p f map office managing partner david e filippi penny h serrurier click driving direction click alternative transportation resource bullman law firm attorney worker firm serving portland sexual harassment discrimination harassment case view law firm profile review office location contact information neill law firm llc present year month attorney gross revenue firm placed american lawyer law ranking global survey clark hill ranked highest grossing law know san antonio office housed historical building commonly referred bakery building historic site previously home butterkrust bakery opened known sandwich bread generation school child passed door field trip one leaving steaming loaf bread branded blue gingham pencil clark hill plc arose cybersecurity breach law firm database confidential information publicly disseminated client wengui sued law firm clark hill claiming failed take sufficient precaution protect data clark hill dallas bank america plaza building since opened building often referred pickle facetted fa ade accented night nearly mile green lighting running primarily edge corner tower clark hill plc firm serving frisco tx general practice limited alternative dispute resolution case view law firm profile review office location contact information clark hill law firm chinese businessman political dissident guo wengui hired international law firm clark hill help apply political asylum wengui explained team clark hill chinese government made target ongoing cyberattacks likely would experience clark hill multidisciplinary international law firm draw attorney comprehensive industry policy knowledge global network industry advisor subject matter expert provide innovative legal solution client service excellence worldwide work guided deeply held shared value including practicality entrepreneurship mutual respect clark hill law like talking attorney professional based office across united state well office dublin mexico year family law attorney support custody duii will trust issue relating elderly matter family matter",
            "count": 1
           },
           {
            "name": "overview combat sport new state sanctioned regulated new state athletic commission ensures health safety participant integrity contest athletic commission license participant including fighter second promoter professional mma boxing event new state athletic commission nysac known new athletic commission division new state department state regulates contest exhibition unarmed combat within state new including licensure supervision promoter boxer professional wrestler second ring official manager matchmaker commissioner edwin torres nominated sit new state athletic commission governor david paterson confirmed new state senate lifelong boxing enthusiast chosen legal acumen ability apply judicial skill disputed matter come browse new state athletic commission stock photo image available start new search explore stock photo image obese woman private session female instructor new state athletic commission stock picture royalty free photo image additionally new secretary state cesar perales formally requested inspector general commence investigation whether new state athletic commission division department state properly fulfilled responsibility state agency regulates boxing new state present new state athletic commission waste taxpayer dollar regulating professional wrestling indeed rule rule new state athletic commission solemnly state wrestler forbidden indulging following unfair foul tactic striking scratching gouging butting new state public high school athletic association airport park boulevard latham ny p f new state athletic commission failed carry stated mandate protect boxer post found attribute agency dysfunctional state ineptitude others elliot reed new new united state deputy commissioner new state athletic commission connection elliot complete profile linkedin connect gov andrew cuomo signed bill revamping combat sport new including legalizing mixed martial art gave new state athletic commission day prepare gordon served chairman new state athletic commission position appointed new state gov mario cuomo youngest commissioner history nysac new became final state legalize mixed martial art move seen final piece legitimizing sport despite additional comment new state athletic commission sac authorized regulate professional boxing wrestling contest match exhibition within state new pursuant title unconsolidated law comprised three member appointed governor addition physician medical advisory board staff sac administers license enforces new state athletic commission promoter license application want open using cloud based editor begin altering fill blank field concerned party name place residence number etc change template smart fillable field add date place electronic signature new state athletic commission division new state department state regulates contest exhibition unarmed combat within state new including licensure supervision promoter boxer professional wrestler second ring official manager matchmaker wikipedia new jersey state new state athletic commission said wednesday coronavirus pandemic would keep event new abundance caution line recent guidance politics problem power new state athletic commission part three new time published investigative report detailed fundraiser new governor andrew cuomo report featured page section began rooftop fund raiser meant secretive yr hotel security fire safety new professional boxing referee since new state athletic commission international boxing federation cm punk took twitter today revealed new state athletic commission allow stage dive entrance tonight aew dynamite many know aew dynamite taking place blue cross arena rochester new new state athletic commission unique among government agency new elsewhere live age enough qualified people opt government service often poltical consideration take precedence good performance employee even diem employee system",
            "count": 1
           },
           {
            "name": "3 others",
            "count": 3
           }
          ]
         }
        },
        {
         "name": "prediction_num",
         "dtype": "int64",
         "stats": {
          "unique_count": 5,
          "nan_count": 0,
          "min": "2",
          "max": "11",
          "histogram": [
           {
            "bin_start": 2,
            "bin_end": 2.9,
            "count": 1
           },
           {
            "bin_start": 2.9,
            "bin_end": 3.8,
            "count": 0
           },
           {
            "bin_start": 3.8,
            "bin_end": 4.7,
            "count": 1
           },
           {
            "bin_start": 4.7,
            "bin_end": 5.6,
            "count": 1
           },
           {
            "bin_start": 5.6,
            "bin_end": 6.5,
            "count": 0
           },
           {
            "bin_start": 6.5,
            "bin_end": 7.4,
            "count": 1
           },
           {
            "bin_start": 7.4,
            "bin_end": 8.3,
            "count": 0
           },
           {
            "bin_start": 8.3,
            "bin_end": 9.2,
            "count": 0
           },
           {
            "bin_start": 9.2,
            "bin_end": 10.1,
            "count": 0
           },
           {
            "bin_start": 10.1,
            "bin_end": 11,
            "count": 1
           }
          ]
         }
        },
        {
         "name": "prediction",
         "dtype": "object",
         "stats": {
          "unique_count": 5,
          "nan_count": 0,
          "categories": [
           {
            "name": "Consumer Services",
            "count": 1
           },
           {
            "name": "Government",
            "count": 1
           },
           {
            "name": "3 others",
            "count": 3
           }
          ]
         }
        },
        {
         "name": "_deepnote_index_column",
         "dtype": "int64"
        }
       ],
       "rows_top": [
        {
         "employers": "clark hill law firm",
         "description": "corporate law healthcare law clark hill full service commercial law firm whatever legal challenge b…",
         "prediction_num": 11,
         "prediction": "Consumer Services",
         "_deepnote_index_column": 17105
        },
        {
         "employers": "new york state athletic commission",
         "description": "overview combat sport new state sanctioned regulated new state athletic commission ensures health s…",
         "prediction_num": 5,
         "prediction": "Government",
         "_deepnote_index_column": 19487
        },
        {
         "employers": "eastern kentucky university",
         "description": "eastern kentucky university announced received single largest gift school history today million lef…",
         "prediction_num": 2,
         "prediction": "Business Services",
         "_deepnote_index_column": 5940
        },
        {
         "employers": "center for advanced hindsight",
         "description": "behavioral design podcast habit weekly center advanced hindsight duke university provides fun engag…",
         "prediction_num": 7,
         "prediction": "Non-Profit",
         "_deepnote_index_column": 16784
        },
        {
         "employers": "black & veatch management consulting llc",
         "description": "global industry consulting leader team draw vast electrical industry technical experience skill bla…",
         "prediction_num": 4,
         "prediction": "Energy and Utilities",
         "_deepnote_index_column": 19382
        }
       ],
       "rows_bottom": null
      },
      "text/plain": "                                      employers  \\\n17105                       clark hill law firm   \n19487        new york state athletic commission   \n5940                eastern kentucky university   \n16784             center for advanced hindsight   \n19382  black & veatch management consulting llc   \n\n                                             description  prediction_num  \\\n17105  corporate law healthcare law clark hill full s...              11   \n19487  overview combat sport new state sanctioned reg...               5   \n5940   eastern kentucky university announced received...               2   \n16784  behavioral design podcast habit weekly center ...               7   \n19382  global industry consulting leader team draw va...               4   \n\n                 prediction  \n17105     Consumer Services  \n19487            Government  \n5940      Business Services  \n16784            Non-Profit  \n19382  Energy and Utilities  ",
      "text/html": "<div>\n<style scoped>\n    .dataframe tbody tr th:only-of-type {\n        vertical-align: middle;\n    }\n\n    .dataframe tbody tr th {\n        vertical-align: top;\n    }\n\n    .dataframe thead th {\n        text-align: right;\n    }\n</style>\n<table border=\"1\" class=\"dataframe\">\n  <thead>\n    <tr style=\"text-align: right;\">\n      <th></th>\n      <th>employers</th>\n      <th>description</th>\n      <th>prediction_num</th>\n      <th>prediction</th>\n    </tr>\n  </thead>\n  <tbody>\n    <tr>\n      <th>17105</th>\n      <td>clark hill law firm</td>\n      <td>corporate law healthcare law clark hill full s...</td>\n      <td>11</td>\n      <td>Consumer Services</td>\n    </tr>\n    <tr>\n      <th>19487</th>\n      <td>new york state athletic commission</td>\n      <td>overview combat sport new state sanctioned reg...</td>\n      <td>5</td>\n      <td>Government</td>\n    </tr>\n    <tr>\n      <th>5940</th>\n      <td>eastern kentucky university</td>\n      <td>eastern kentucky university announced received...</td>\n      <td>2</td>\n      <td>Business Services</td>\n    </tr>\n    <tr>\n      <th>16784</th>\n      <td>center for advanced hindsight</td>\n      <td>behavioral design podcast habit weekly center ...</td>\n      <td>7</td>\n      <td>Non-Profit</td>\n    </tr>\n    <tr>\n      <th>19382</th>\n      <td>black &amp; veatch management consulting llc</td>\n      <td>global industry consulting leader team draw va...</td>\n      <td>4</td>\n      <td>Energy and Utilities</td>\n    </tr>\n  </tbody>\n</table>\n</div>"
     },
     "metadata": {}
    }
   ]
  },
  {
   "cell_type": "markdown",
   "source": "These predictions are very bad. ",
   "metadata": {
    "tags": [],
    "cell_id": "00027-438a6104-bb70-4280-9700-cddb31a4ba5b",
    "deepnote_cell_type": "markdown"
   }
  },
  {
   "cell_type": "markdown",
   "source": "# Task 2:the word vector representation, how do you think this model performs compare to the others. Create a embeddings representation of each industry using spacy and find the closest industry using doc_1.similarity(industry_1)",
   "metadata": {
    "tags": [],
    "is_collapsed": false,
    "cell_id": "00002-b6cf288e-d77a-4a8d-82c3-86e660119def",
    "deepnote_cell_type": "text-cell-h1"
   }
  },
  {
   "cell_type": "code",
   "metadata": {
    "tags": [],
    "cell_id": "00028-3eba4730-3eef-46b6-9a60-32b9ffff173c",
    "deepnote_to_be_reexecuted": false,
    "source_hash": "e838af98",
    "execution_start": 1635974573450,
    "execution_millis": 484,
    "deepnote_cell_type": "code"
   },
   "source": "nlp = spacy.load(\"en_core_web_sm\", disable=[\"parser\", \"ner\"]) #get the word embedding model",
   "execution_count": 26,
   "outputs": []
  },
  {
   "cell_type": "code",
   "source": "# Re-reading the data, just to refresh from the previous session\nraw_data = pd.read_csv('employer_raw_data_group_2.csv')\nsentences = raw_data['description'].values\nindustry_data = pd.read_csv('industry_data.csv')\nindustry_descriptions = industry_data['description'].values",
   "metadata": {
    "tags": [],
    "cell_id": "00032-be3dc9d0-ed16-4d89-bed7-3f8fe2a0e1af",
    "deepnote_to_be_reexecuted": false,
    "source_hash": "4a6ca7b3",
    "execution_start": 1635974573941,
    "execution_millis": 1138,
    "deepnote_cell_type": "code"
   },
   "outputs": [],
   "execution_count": 27
  },
  {
   "cell_type": "code",
   "source": "# We were using CountVectorizer above. We will now switch to TFIDF \nMIN_DF = 2\nMAX_DF = 0.4\nvec = TfidfVectorizer(\n    preprocessor= preprocess,\n    tokenizer=lambda s: s.split(),\n    min_df=MIN_DF,\n    max_df=MAX_DF,\n    use_idf=True,\n    smooth_idf=True\n)\nvec = vec.fit(sentences)\nvectors = vec.transform(sentences)",
   "metadata": {
    "tags": [],
    "cell_id": "00032-6f6e1c35-f5b3-4b1a-9435-958a4a17d2c8",
    "deepnote_to_be_reexecuted": false,
    "source_hash": "1ecab303",
    "execution_start": 1635974575085,
    "execution_millis": 229685,
    "deepnote_cell_type": "code"
   },
   "outputs": [
    {
     "name": "stderr",
     "text": "/shared-libs/python3.7/py/lib/python3.7/site-packages/sklearn/feature_extraction/text.py:517: UserWarning: The parameter 'token_pattern' will not be used since 'tokenizer' is not None'\n  \"The parameter 'token_pattern' will not be used\"\n",
     "output_type": "stream"
    }
   ],
   "execution_count": 28
  },
  {
   "cell_type": "code",
   "metadata": {
    "tags": [],
    "cell_id": "00033-7860ff4f-d6ec-4adb-a19e-be92587a737d",
    "deepnote_to_be_reexecuted": false,
    "source_hash": "4a4eaecf",
    "execution_start": 1635974804792,
    "execution_millis": 43791,
    "deepnote_cell_type": "code"
   },
   "source": "top_n = 50 #maybe use 25 instead or lower\n\nwords = np.array(vec.get_feature_names())\nres = []\nfor i in range(vectors.shape[0]):\n    # Will get the words that are in the TFIDF which have the higher score\n    # We use -vectors because the order is ascending\n    s = np.argsort(np.asarray(-vectors[i, :].todense()).flatten())\n    res.append(\" \".join(words[s[:top_n]]))",
   "execution_count": 29,
   "outputs": [
    {
     "name": "stderr",
     "text": "/shared-libs/python3.7/py/lib/python3.7/site-packages/sklearn/utils/deprecation.py:87: FutureWarning: Function get_feature_names is deprecated; get_feature_names is deprecated in 1.0 and will be removed in 1.2. Please use get_feature_names_out instead.\n  warnings.warn(msg, category=FutureWarning)\n",
     "output_type": "stream"
    }
   ]
  },
  {
   "cell_type": "code",
   "source": "data_documents = [nlp(description) for description in res)]",
   "metadata": {
    "tags": [],
    "cell_id": "00034-740f7675-fda2-4e75-a01d-2ffa06389e82",
    "deepnote_to_be_reexecuted": false,
    "source_hash": "f7e2d5f9",
    "execution_start": 1635974848587,
    "execution_millis": 309,
    "deepnote_cell_type": "code"
   },
   "outputs": [
    {
     "output_type": "error",
     "ename": "SyntaxError",
     "evalue": "invalid syntax (<ipython-input-30-121359bec5cb>, line 1)",
     "traceback": [
      "\u001b[0;36m  File \u001b[0;32m\"<ipython-input-30-121359bec5cb>\"\u001b[0;36m, line \u001b[0;32m1\u001b[0m\n\u001b[0;31m    data_documents = [nlp(description) for description in res)]\u001b[0m\n\u001b[0m                                                             ^\u001b[0m\n\u001b[0;31mSyntaxError\u001b[0m\u001b[0;31m:\u001b[0m invalid syntax\n"
     ]
    }
   ],
   "execution_count": 30
  },
  {
   "cell_type": "code",
   "metadata": {
    "tags": [],
    "cell_id": "00036-c2bf5610-e29f-4c70-9d31-18de1ea85aef",
    "deepnote_to_be_reexecuted": true,
    "source_hash": "dfc1c335",
    "execution_start": 1635971061901,
    "execution_millis": 3,
    "deepnote_cell_type": "code"
   },
   "source": "vector1",
   "outputs": [
    {
     "output_type": "execute_result",
     "execution_count": 36,
     "data": {
      "text/plain": "array([ 7.02645719e-01, -1.68836266e-01,  2.61854976e-01, -3.84303220e-02,\n        4.65661474e-02, -1.67919248e-01, -2.95927972e-01,  3.22961032e-01,\n       -3.64984691e-01,  7.85891414e-02,  4.46066141e-01, -2.69639939e-01,\n        1.20276317e-01, -1.94166720e-01, -4.90692586e-01,  4.66974169e-01,\n       -1.50962211e-02,  2.40982577e-01, -5.04387498e-01, -1.00908853e-01,\n       -1.87064856e-01,  4.67575230e-02,  8.88164788e-02, -1.92914754e-01,\n        1.30501360e-01, -3.76936078e-01,  4.09645855e-01, -3.62187684e-01,\n        2.27998853e-01, -2.35117480e-01, -1.34770587e-01, -1.01859160e-02,\n       -2.93851420e-02, -2.90815055e-01,  7.87873864e-02, -3.43523860e-01,\n        4.29382926e-04,  1.38496071e-01,  2.48840854e-01,  6.27460957e-01,\n        1.21669389e-01,  1.49951175e-01, -3.93357426e-01,  1.01098776e-01,\n        3.54889184e-02, -1.45836309e-01, -1.79082633e-03,  2.14475915e-01,\n       -1.39374122e-01, -1.90969244e-01,  3.43208194e-01, -1.65164754e-01,\n       -1.58521697e-01,  9.78277028e-02,  4.18917656e-01,  6.06083721e-02,\n        1.75577998e-01, -9.06045511e-02,  8.41704756e-03,  4.45576049e-02,\n       -3.50329466e-02, -3.01674843e-01,  1.44946933e-01, -3.70675385e-01,\n       -5.79356663e-02, -2.67340630e-01, -7.85518706e-01,  1.79667491e-02,\n        1.81002185e-01,  1.38560414e-01,  1.93392280e-02,  2.36606877e-02,\n       -1.84614840e-03, -2.71710843e-01, -4.20035459e-02,  1.04428403e-01,\n       -6.97545707e-02,  1.64616391e-01, -3.30655783e-01, -5.08232005e-02,\n       -1.94366723e-02,  4.63009387e-01,  3.81897688e-01,  6.08927429e-01,\n        1.30638734e-01, -1.72303349e-01, -1.35489181e-01, -4.04247403e-01,\n       -1.62388667e-01,  8.52949023e-02, -5.60549498e-01,  3.84730995e-02,\n        3.07638884e-01, -1.85942784e-01,  1.98837314e-02,  2.03272149e-01],\n      dtype=float32)"
     },
     "metadata": {}
    }
   ],
   "execution_count": null
  },
  {
   "cell_type": "code",
   "source": "industry_vectors = vec.transform(industry_descriptions)\nindustry_vec = vec.fit(industry_descriptions)",
   "metadata": {
    "tags": [],
    "cell_id": "00039-ae41891b-0178-4e12-a1a4-640a99b29442",
    "deepnote_to_be_reexecuted": true,
    "source_hash": "1124e9e8",
    "execution_start": 1635972796949,
    "execution_millis": 568,
    "deepnote_cell_type": "code"
   },
   "outputs": [
    {
     "name": "stderr",
     "text": "/shared-libs/python3.7/py/lib/python3.7/site-packages/sklearn/feature_extraction/text.py:517: UserWarning: The parameter 'token_pattern' will not be used since 'tokenizer' is not None'\n  \"The parameter 'token_pattern' will not be used\"\n",
     "output_type": "stream"
    }
   ],
   "execution_count": null
  },
  {
   "cell_type": "code",
   "source": "top_n = 50\n\nwords = np.array(industry_vec.get_feature_names())\nindustry_res = []\nfor i in range(industry_vectors.shape[0]):\n    # Will get the words that are in the TFIDF which have the higher score\n    # We use -vectors because the order is ascending\n    s = np.argsort(np.asarray(-industry_vectors[i, :].todense()).flatten())\n    industry_res.append(\" \".join(words[s[:top_n]]))\n    #error here",
   "metadata": {
    "tags": [],
    "cell_id": "00037-05112395-ac27-4747-b598-fa5eb469c89e",
    "deepnote_to_be_reexecuted": true,
    "source_hash": "8d33d80c",
    "execution_start": 1635973073092,
    "execution_millis": 26,
    "deepnote_cell_type": "code"
   },
   "outputs": [
    {
     "output_type": "error",
     "ename": "IndexError",
     "evalue": "index 27285 is out of bounds for axis 0 with size 1278",
     "traceback": [
      "\u001b[0;31m---------------------------------------------------------------------------\u001b[0m",
      "\u001b[0;31mIndexError\u001b[0m                                Traceback (most recent call last)",
      "\u001b[0;32m<ipython-input-57-bad78fd81aea>\u001b[0m in \u001b[0;36m<module>\u001b[0;34m\u001b[0m\n\u001b[1;32m      7\u001b[0m     \u001b[0;31m# We use -vectors because the order is ascending\u001b[0m\u001b[0;34m\u001b[0m\u001b[0;34m\u001b[0m\u001b[0;34m\u001b[0m\u001b[0m\n\u001b[1;32m      8\u001b[0m     \u001b[0ms\u001b[0m \u001b[0;34m=\u001b[0m \u001b[0mnp\u001b[0m\u001b[0;34m.\u001b[0m\u001b[0margsort\u001b[0m\u001b[0;34m(\u001b[0m\u001b[0mnp\u001b[0m\u001b[0;34m.\u001b[0m\u001b[0masarray\u001b[0m\u001b[0;34m(\u001b[0m\u001b[0;34m-\u001b[0m\u001b[0mindustry_vectors\u001b[0m\u001b[0;34m[\u001b[0m\u001b[0mi\u001b[0m\u001b[0;34m,\u001b[0m \u001b[0;34m:\u001b[0m\u001b[0;34m]\u001b[0m\u001b[0;34m.\u001b[0m\u001b[0mtodense\u001b[0m\u001b[0;34m(\u001b[0m\u001b[0;34m)\u001b[0m\u001b[0;34m)\u001b[0m\u001b[0;34m.\u001b[0m\u001b[0mflatten\u001b[0m\u001b[0;34m(\u001b[0m\u001b[0;34m)\u001b[0m\u001b[0;34m)\u001b[0m\u001b[0;34m\u001b[0m\u001b[0;34m\u001b[0m\u001b[0m\n\u001b[0;32m----> 9\u001b[0;31m     \u001b[0mindustry_res\u001b[0m\u001b[0;34m.\u001b[0m\u001b[0mappend\u001b[0m\u001b[0;34m(\u001b[0m\u001b[0;34m\" \"\u001b[0m\u001b[0;34m.\u001b[0m\u001b[0mjoin\u001b[0m\u001b[0;34m(\u001b[0m\u001b[0mwords\u001b[0m\u001b[0;34m[\u001b[0m\u001b[0ms\u001b[0m\u001b[0;34m[\u001b[0m\u001b[0;34m:\u001b[0m\u001b[0mtop_n\u001b[0m\u001b[0;34m]\u001b[0m\u001b[0;34m]\u001b[0m\u001b[0;34m)\u001b[0m\u001b[0;34m)\u001b[0m\u001b[0;34m\u001b[0m\u001b[0;34m\u001b[0m\u001b[0m\n\u001b[0m",
      "\u001b[0;31mIndexError\u001b[0m: index 27285 is out of bounds for axis 0 with size 1278"
     ]
    }
   ],
   "execution_count": null
  },
  {
   "cell_type": "code",
   "source": "industry_documents = [nlp(description) for description in industry_res)]",
   "metadata": {
    "tags": [],
    "cell_id": "00038-0406a705-7800-40e4-9884-097ed53229e9",
    "deepnote_to_be_reexecuted": true,
    "source_hash": "b0ace9e7",
    "deepnote_cell_type": "code"
   },
   "outputs": [],
   "execution_count": null
  },
  {
   "cell_type": "code",
   "source": "# Comparing each sentence to each industry description, creating a 20,000 X 13 matrix\n\ncomparison_matrix = np.zeros((20000,13))\n\nfor i, data_document in enumerate(data_documents):\n    for j, industry_document in enumerate(industry_documents):\n        comparison_matrix[i,j] = ",
   "metadata": {
    "tags": [],
    "cell_id": "00039-3a3f9a59-dccc-4cbb-a399-5d721214c77d",
    "deepnote_to_be_reexecuted": true,
    "source_hash": "6a705407",
    "deepnote_cell_type": "code"
   },
   "outputs": [],
   "execution_count": null
  },
  {
   "cell_type": "markdown",
   "source": "<a style='text-decoration:none;line-height:16px;display:flex;color:#5B5B62;padding:10px;justify-content:end;' href='https://deepnote.com?utm_source=created-in-deepnote-cell&projectId=262b3d28-05ef-49db-b57a-efab2f090880' target=\"_blank\">\n<img alt='Created in deepnote.com' style='display:inline;max-height:16px;margin:0px;margin-right:7.5px;' src='data:image/svg+xml;base64,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' > </img>\nCreated in <span style='font-weight:600;margin-left:4px;'>Deepnote</span></a>",
   "metadata": {
    "tags": [],
    "created_in_deepnote_cell": true,
    "deepnote_cell_type": "markdown"
   }
  }
 ],
 "nbformat": 4,
 "nbformat_minor": 2,
 "metadata": {
  "orig_nbformat": 2,
  "deepnote": {
   "is_reactive": false
  },
  "deepnote_notebook_id": "25b03d08-6320-4240-8138-7492eea4158c",
  "deepnote_execution_queue": []
 }
}