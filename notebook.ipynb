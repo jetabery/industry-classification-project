{
 "cells": [
  {
   "cell_type": "markdown",
   "source": "# Assignment 1 -- Julius Tabery, Harrison Le",
   "metadata": {
    "cell_id": "00000-d2fba5a7-b0ce-41d1-93ac-22552dff53c4",
    "deepnote_cell_type": "markdown"
   }
  },
  {
   "cell_type": "markdown",
   "source": "## Task 1\n#### Load the dataset and make at least two observations",
   "metadata": {
    "cell_id": "00001-6aac9577-0fcf-4529-9943-5e4b6b4f8461",
    "deepnote_cell_type": "markdown"
   }
  },
  {
   "cell_type": "code",
   "source": "import pandas as pd\nimport regex as re",
   "metadata": {
    "tags": [],
    "cell_id": "00002-f36476e3-7bc3-433f-a256-3230ba0612ba",
    "deepnote_to_be_reexecuted": false,
    "source_hash": "594d3ffb",
    "execution_start": 1634519596472,
    "execution_millis": 42,
    "deepnote_cell_type": "code"
   },
   "outputs": [],
   "execution_count": 1
  },
  {
   "cell_type": "code",
   "metadata": {
    "cell_id": "00002-3d444965-5c30-4b1c-b2f3-f509b0f85345",
    "deepnote_to_be_reexecuted": false,
    "source_hash": "d8f37123",
    "execution_start": 1634519596515,
    "execution_millis": 1368,
    "deepnote_cell_type": "code"
   },
   "source": "raw_data = pd.read_csv('employer_raw_data_group_2.csv')\n\nraw_data.describe()",
   "execution_count": 2,
   "outputs": [
    {
     "output_type": "execute_result",
     "execution_count": 2,
     "data": {
      "application/vnd.deepnote.dataframe.v2+json": {
       "row_count": 4,
       "column_count": 2,
       "columns": [
        {
         "name": "employers",
         "dtype": "object",
         "stats": {
          "unique_count": 3,
          "nan_count": 0,
          "categories": [
           {
            "name": "20000",
            "count": 2
           },
           {
            "name": "the outdoor circle ~",
            "count": 1
           },
           {
            "name": "1",
            "count": 1
           }
          ]
         }
        },
        {
         "name": "description",
         "dtype": "object",
         "stats": {
          "unique_count": 4,
          "nan_count": 0,
          "categories": [
           {
            "name": "20000",
            "count": 1
           },
           {
            "name": "19996",
            "count": 1
           },
           {
            "name": "2 others",
            "count": 2
           }
          ]
         }
        },
        {
         "name": "_deepnote_index_column",
         "dtype": "object"
        }
       ],
       "rows_top": [
        {
         "employers": "20000",
         "description": "20000",
         "_deepnote_index_column": "count"
        },
        {
         "employers": "20000",
         "description": "19996",
         "_deepnote_index_column": "unique"
        },
        {
         "employers": "the outdoor circle ~",
         "description": "Computer Network Technology Corporation provides hardware and software products for storage area ne…",
         "_deepnote_index_column": "top"
        },
        {
         "employers": "1",
         "description": "2",
         "_deepnote_index_column": "freq"
        }
       ],
       "rows_bottom": null
      },
      "text/plain": "                   employers  \\\ncount                  20000   \nunique                 20000   \ntop     the outdoor circle ~   \nfreq                       1   \n\n                                              description  \ncount                                               20000  \nunique                                              19996  \ntop     Computer Network Technology Corporation provid...  \nfreq                                                    2  ",
      "text/html": "<div>\n<style scoped>\n    .dataframe tbody tr th:only-of-type {\n        vertical-align: middle;\n    }\n\n    .dataframe tbody tr th {\n        vertical-align: top;\n    }\n\n    .dataframe thead th {\n        text-align: right;\n    }\n</style>\n<table border=\"1\" class=\"dataframe\">\n  <thead>\n    <tr style=\"text-align: right;\">\n      <th></th>\n      <th>employers</th>\n      <th>description</th>\n    </tr>\n  </thead>\n  <tbody>\n    <tr>\n      <th>count</th>\n      <td>20000</td>\n      <td>20000</td>\n    </tr>\n    <tr>\n      <th>unique</th>\n      <td>20000</td>\n      <td>19996</td>\n    </tr>\n    <tr>\n      <th>top</th>\n      <td>the outdoor circle ~</td>\n      <td>Computer Network Technology Corporation provid...</td>\n    </tr>\n    <tr>\n      <th>freq</th>\n      <td>1</td>\n      <td>2</td>\n    </tr>\n  </tbody>\n</table>\n</div>"
     },
     "metadata": {}
    }
   ]
  },
  {
   "cell_type": "code",
   "metadata": {
    "cell_id": "00003-bc4d059b-2b79-4e39-ab0a-a75a810c6d14",
    "deepnote_to_be_reexecuted": false,
    "source_hash": "16a10aa0",
    "execution_start": 1634519597880,
    "execution_millis": 11,
    "deepnote_cell_type": "code"
   },
   "source": "print(raw_data['description'].loc[100])",
   "execution_count": 3,
   "outputs": [
    {
     "name": "stdout",
     "text": "“RehabAbilities has been designed with YOU in mind. Being therapist-owned, we speak your language & value your high clinical standards & ethics. We pride ourselves on having the most qualified & experienced Scheduling Team, Therapy Personnel, & Social Workers dedicated to providing excellent patient care! Physical Therapist Assistant Inpatient and Outpatient (Former Employee) - Corona, CA - March 24, 2021. RehabAbilities is a Pro white male racist company. After accepting assignments, assignments were often taken away from and given to white males.. Replacement assignments in lieu of the withdrawn assignments and with no additional compensation ... Find out what works well at RehabAbilities from the people who know best. Get the inside scoop on jobs, salaries, top office locations, and CEO insights. Compare pay for popular roles and read about the team’s work-life balance. Uncover why RehabAbilities is the best company for you. 1 review of RehabAbilities \"After experiencing what I did with this staffing agency, I would no longer be using any of these types of services any longer. The initial HR assistance who reached out and screened me was nice, but the recruiter (Mark) was quite pushy and disrespectful. We all know staffing agencies get a commission, like a car sales, once people get matched and hired. Rehababilities, Inc. is a New Mexico Foreign Profit Corporation filed On July 27, 1992. The company's filing status is listed as Revoked Final and its File Number is 1575075. The Registered Agent on file for this company is Michael Jones and is located at 5555 Zuni Rd. Se #356, Albuquerque, NM 87108. Rehababilities, Inc. operates as a non profit organization. The Company offers occupational, physical, marriage, and family therapy, speech language pathology, case ... 8655 Haven Avenue, Rancho Cucamonga, CA 91730. +19099895699. Website. Rehababilities offers a comprehensive range of services for those in need of medical assistance in Rancho Cucamonga, CA. Keep your circulation flowing and your muscles eased with a massage from this clinic. RehabAbilities & Social Service Professionals Reviews. Updated Oct 4, 2019. 3.6. ★★★★★. 78 %. Recommend to a Friend. Kim Ozias-Jones. 0 Rating. Your trust is our top concern, so companies can't alter or remove reviews. The average RehabAbilities & Social Service Professionals hourly pay ranges from approximately $27 per hour for a Social Worker to $27 per hour for a Social Worker. RehabAbilities & Social Service Professionals employees rate the overall compensation and benefits package 3.5/5 stars. Find 2 listings related to Rehababilities Inc in Rancho Cucamonga on YP.com. See reviews, photos, directions, phone numbers and more for Rehababilities Inc locations in Rancho Cucamonga, CA. RehabAbilities - Hourly Rate - Get a free salary comparison based on job title, skills, experience and education. Accurate, reliable salary and compensation comparisons for United States Supplier Spotlight: RehabAbilities. By Marketing on 11/13/15 in Suppliers. Company Location: Rancho Cucamonga, CA. Type of Staffing: Allied and Social Work. Name: Susan Westin. Job Title: Rehab Staffing Manager. RehabAbilities Feb 2018 - Present 3 years 7 months. Rancho Cucamonga HR Recruiter Artic Mechanical Sep 2017 - Feb 2018 6 months. Sr. Consultant frederick | andrews ... Site: rehababilities.com. Phone: (909) 989-5699, (909) 989-7633 (Fax) Addresses: 8655 Haven Ave Ste 200, Rancho Cucamonga, CA 91730 (Mailing) 9227 Haven Ave # 300, Rancho Cucamonga, CA 91730. State ID: 0802018041. Business type: Foreign For-Profit Corporation Rehababilities, Inc. was founded in 1987, and is located at 8655 Haven Ave Ste 200 in Rancho Cucamonga. Additional information is available at www.rehababilities.com or by contacting Kimberly Jones at (909) 989-5699. RehabAbilities | Rehab Therapy Staffing and Jobs for - PTs, PTAs, OTs, OTAs, & SLPs, in California. Visit our website to see our Therapy Job Opportunities! RehabAbilities is a rehabilitation and social work staffing company. I handle multifaceted administrative needs and provide support to executive and account management, client relations and ... The National Acquisition Center Contract Catalog Search Tool now allows your facility to browse MedSurg and Pharmaceutical products and services available under Federal Supply Service contracts. The search tool allows the user to locate items using a variety of search criteria, including item description, special item number (SIN) and contract number. The National Acquisition Center Contract Catalog Search Tool now allows your facility to browse MedSurg and Pharmaceutical products and services available under Federal Supply Service contracts. The search tool allows the user to locate items using a variety of search criteria, including item description, special item number (SIN) and contract number.\n",
     "output_type": "stream"
    }
   ]
  },
  {
   "cell_type": "markdown",
   "source": "### Observations\nThe dataset contains just two columns: the name of the company (\"employers\") and the description of the company (\"description\"). The \"employers\" column seems straightforward enough, but the \"description\" column is a bit more complicated. It all seems to pertain to the company, but the content of the descriptions seem to vary. For example, the description above starts with an advertisement for the company, but then also includes some kind of review from a former employee who accuses the company of racist and sexist practice. It seems like, often, pieces of information from distinct sources are separated by two or three periods (\"...\"). It seems like most numeric information will probably not be that helpful. Phone numbers, dates, mailing addresses, etc. I think, for the purposes of the model, these kinds of information will not be very useful.",
   "metadata": {
    "cell_id": "00004-aebef84b-193e-4a4d-97fe-60ecb798437b",
    "deepnote_cell_type": "markdown"
   }
  },
  {
   "cell_type": "markdown",
   "source": "## Task 2\n#### Create the regex for a phone number",
   "metadata": {
    "cell_id": "00005-3c88448c-37fd-4736-b79b-7426e07b9828",
    "deepnote_cell_type": "markdown"
   }
  },
  {
   "cell_type": "code",
   "metadata": {
    "tags": [],
    "cell_id": "00007-aa508294-e34a-4437-a6b9-0bf7c94252af",
    "deepnote_to_be_reexecuted": true,
    "source_hash": "5515d7d2",
    "execution_start": 1634519349946,
    "execution_millis": 2,
    "deepnote_cell_type": "code"
   },
   "source": "'''\nPATTERN BREAKDOWN:\n\n(?:(?:\\+1 ?)?|1 ?) \nMatches if there is \"1\" or \"+1\" at the beginning, since some phone numbers include this.\nIt also matches if there is a space after the \"1\" or \"+1\".\n\n(?:\\([0-9]{3}\\)|[0-9]{3})\nMatches a set of three numbers, possibly inside of parentheses.\n\n[. \\-]{0,3} \nMatches characters between the numbers, such as in examples 1, 3, 4, 5, and 6.\n\n[0-9]{3} \nMatches 3 more numbers\n\n[. \\-]{0,3}\nMatches more characters between the numbers\n\n[0-9]{4} \nMatches 4 numbers at the end\n'''\n\npattern = \"(?:(?:\\+1[ \\-]?)?|1[ \\-]?)(?:\\([0-9]{3}\\)|[0-9]{3})[. \\-]{0,3}[0-9]{3}[. \\-]{0,3}[0-9]{4}\"\n\ngood_examples = []\ngood_examples.append(\"My phone number is +1 (123) 456 7890.\")\ngood_examples.append(\"Here's my phone number: +11234567890.\")\ngood_examples.append(\"You can reach me at +1(123)-456-7890.\")\ngood_examples.append(\"My number is (123) - 456 - 7890.\")\ngood_examples.append(\"Phone: 1 123- 456- 7890.\")\ngood_examples.append(\"My phone: 123.456.7890.\")\ngood_examples.append(\"Call my office: +1-(123)-456-7890.\")\nfor example in good_examples:\n    print(\"This should find a match.     Matches:\", re.findall(pattern, example))\n\nbad_examples = []\nbad_examples.append(\"My phone number is +1 123) 456 7890.\")   # Closing parenthesis without opening\nbad_examples.append(\"Here's my phone number: 123456789.\")     # Too short\nbad_examples.append(\"You can reach me at +1 123-\\n456-7890.\") # Newline character in the middle\nbad_examples.append(\"My number is (123) - 456 - 789.\")        # Too short\nbad_examples.append(\"Phone: 123*456*7890.\")                   # Invalid character\nbad_examples.append(\"My phone: 1 800-GET-RICH.\")              # letters, not numbers\nbad_examples.append(\"Call my office: +1-(123)-4567-890.\")     # Numbers partitioned incorrectly\nfor example in bad_examples:\n    print(\"This should NOT find a match. Matches:\", re.findall(pattern, example))",
   "outputs": [
    {
     "name": "stdout",
     "text": "This should find a match.     Matches: ['+1 (123) 456 7890']\nThis should find a match.     Matches: ['+11234567890']\nThis should find a match.     Matches: ['+1(123)-456-7890']\nThis should find a match.     Matches: ['(123) - 456 - 7890']\nThis should find a match.     Matches: ['1 123- 456- 7890']\nThis should find a match.     Matches: ['123.456.7890']\nThis should find a match.     Matches: ['+1-(123)-456-7890']\nThis should NOT find a match. Matches: []\nThis should NOT find a match. Matches: []\nThis should NOT find a match. Matches: []\nThis should NOT find a match. Matches: []\nThis should NOT find a match. Matches: []\nThis should NOT find a match. Matches: []\nThis should NOT find a match. Matches: []\n",
     "output_type": "stream"
    }
   ],
   "execution_count": null
  },
  {
   "cell_type": "markdown",
   "source": "## Task 3\n#### Apply all the cleaning techniques on the dataset by using function. Your function will take a string as an input and will return the clean version of it. Create one function per regex + string manipulation you do. Use the apply function of pandas to clean your dataset.",
   "metadata": {
    "tags": [],
    "cell_id": "00008-fae9bdf3-9ca2-4aab-becf-735b52d02d3d",
    "deepnote_cell_type": "markdown"
   }
  },
  {
   "cell_type": "code",
   "source": "def clean_string(dirty_string):\n    # This will return a cleaned version of dirty_string\n    return",
   "metadata": {
    "tags": [],
    "cell_id": "00009-36dc2aca-f87a-49b6-a3f7-eb22f2a9aa37",
    "deepnote_to_be_reexecuted": true,
    "source_hash": "309dc8f0",
    "execution_start": 1634518594107,
    "execution_millis": 1,
    "deepnote_cell_type": "code"
   },
   "outputs": [],
   "execution_count": null
  },
  {
   "cell_type": "markdown",
   "source": "<a style='text-decoration:none;line-height:16px;display:flex;color:#5B5B62;padding:10px;justify-content:end;' href='https://deepnote.com?utm_source=created-in-deepnote-cell&projectId=262b3d28-05ef-49db-b57a-efab2f090880' target=\"_blank\">\n<img alt='Created in deepnote.com' style='display:inline;max-height:16px;margin:0px;margin-right:7.5px;' src='data:image/svg+xml;base64,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' > </img>\nCreated in <span style='font-weight:600;margin-left:4px;'>Deepnote</span></a>",
   "metadata": {
    "tags": [],
    "created_in_deepnote_cell": true,
    "deepnote_cell_type": "markdown"
   }
  }
 ],
 "nbformat": 4,
 "nbformat_minor": 2,
 "metadata": {
  "interpreter": {
   "hash": "6dd0af9b8b7e17f847c2ee7319c6039c72192adc34eba6a901458aae092d1543"
  },
  "kernelspec": {
   "display_name": "Python 3.9.1 64-bit",
   "name": "python3"
  },
  "language_info": {
   "codemirror_mode": {
    "name": "ipython",
    "version": 3
   },
   "file_extension": ".py",
   "mimetype": "text/x-python",
   "name": "python",
   "nbconvert_exporter": "python",
   "pygments_lexer": "ipython3",
   "version": "3.9.1"
  },
  "orig_nbformat": 4,
  "deepnote_notebook_id": "92af2e33-ea3a-4b43-9a41-dbab4687cff2",
  "deepnote": {},
  "deepnote_execution_queue": [
   {
    "cellId": "00007-aa508294-e34a-4437-a6b9-0bf7c94252af",
    "sessionId": "be95528b-d168-4e51-bf3a-9201d1e2c97e",
    "msgId": "0fa72b7b-cf2b-48ee-a33a-d9d62f720d0e"
   },
   {
    "cellId": "00009-36dc2aca-f87a-49b6-a3f7-eb22f2a9aa37",
    "sessionId": "be95528b-d168-4e51-bf3a-9201d1e2c97e",
    "msgId": "70f2bcab-a530-45fa-8f10-bda00276904d"
   }
  ]
 }
}