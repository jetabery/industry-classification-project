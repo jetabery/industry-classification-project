{
 "cells": [
  {
   "cell_type": "markdown",
   "metadata": {
    "cell_id": "00000-d2fba5a7-b0ce-41d1-93ac-22552dff53c4",
    "deepnote_cell_type": "markdown"
   },
   "source": [
    "# Assignment 1 -- Julius Tabery, Harrison Le"
   ]
  },
  {
   "cell_type": "markdown",
   "metadata": {
    "cell_id": "00001-6aac9577-0fcf-4529-9943-5e4b6b4f8461",
    "deepnote_cell_type": "markdown"
   },
   "source": [
    "## Task 1\n",
    "#### Load the dataset and make at least two observations"
   ]
  },
  {
   "cell_type": "code",
   "execution_count": 13,
   "metadata": {
    "cell_id": "00002-f36476e3-7bc3-433f-a256-3230ba0612ba",
    "deepnote_cell_type": "code",
    "deepnote_to_be_reexecuted": false,
    "execution_millis": 42,
    "execution_start": 1634519596472,
    "source_hash": "594d3ffb",
    "tags": []
   },
   "outputs": [],
   "source": [
    "import pandas as pd\n",
    "import regex as re"
   ]
  },
  {
   "cell_type": "code",
   "execution_count": 14,
   "metadata": {
    "cell_id": "00002-3d444965-5c30-4b1c-b2f3-f509b0f85345",
    "deepnote_cell_type": "code",
    "deepnote_to_be_reexecuted": false,
    "execution_millis": 1368,
    "execution_start": 1634519596515,
    "source_hash": "d8f37123"
   },
   "outputs": [
    {
     "data": {
      "text/html": [
       "<div>\n",
       "<style scoped>\n",
       "    .dataframe tbody tr th:only-of-type {\n",
       "        vertical-align: middle;\n",
       "    }\n",
       "\n",
       "    .dataframe tbody tr th {\n",
       "        vertical-align: top;\n",
       "    }\n",
       "\n",
       "    .dataframe thead th {\n",
       "        text-align: right;\n",
       "    }\n",
       "</style>\n",
       "<table border=\"1\" class=\"dataframe\">\n",
       "  <thead>\n",
       "    <tr style=\"text-align: right;\">\n",
       "      <th></th>\n",
       "      <th>employers</th>\n",
       "      <th>description</th>\n",
       "    </tr>\n",
       "  </thead>\n",
       "  <tbody>\n",
       "    <tr>\n",
       "      <th>count</th>\n",
       "      <td>20000</td>\n",
       "      <td>20000</td>\n",
       "    </tr>\n",
       "    <tr>\n",
       "      <th>unique</th>\n",
       "      <td>20000</td>\n",
       "      <td>19996</td>\n",
       "    </tr>\n",
       "    <tr>\n",
       "      <th>top</th>\n",
       "      <td>siemens information systems</td>\n",
       "      <td>Innovative Gaming Corporation of America, thro...</td>\n",
       "    </tr>\n",
       "    <tr>\n",
       "      <th>freq</th>\n",
       "      <td>1</td>\n",
       "      <td>2</td>\n",
       "    </tr>\n",
       "  </tbody>\n",
       "</table>\n",
       "</div>"
      ],
      "text/plain": [
       "                          employers  \\\n",
       "count                         20000   \n",
       "unique                        20000   \n",
       "top     siemens information systems   \n",
       "freq                              1   \n",
       "\n",
       "                                              description  \n",
       "count                                               20000  \n",
       "unique                                              19996  \n",
       "top     Innovative Gaming Corporation of America, thro...  \n",
       "freq                                                    2  "
      ]
     },
     "execution_count": 14,
     "metadata": {},
     "output_type": "execute_result"
    }
   ],
   "source": [
    "raw_data = pd.read_csv('employer_raw_data_group_2.csv')\n",
    "\n",
    "raw_data.describe()"
   ]
  },
  {
   "cell_type": "code",
   "execution_count": 15,
   "metadata": {
    "cell_id": "00003-bc4d059b-2b79-4e39-ab0a-a75a810c6d14",
    "deepnote_cell_type": "code",
    "deepnote_to_be_reexecuted": false,
    "execution_millis": 11,
    "execution_start": 1634519597880,
    "source_hash": "16a10aa0"
   },
   "outputs": [
    {
     "name": "stdout",
     "output_type": "stream",
     "text": [
      "“RehabAbilities has been designed with YOU in mind. Being therapist-owned, we speak your language & value your high clinical standards & ethics. We pride ourselves on having the most qualified & experienced Scheduling Team, Therapy Personnel, & Social Workers dedicated to providing excellent patient care! Physical Therapist Assistant Inpatient and Outpatient (Former Employee) - Corona, CA - March 24, 2021. RehabAbilities is a Pro white male racist company. After accepting assignments, assignments were often taken away from and given to white males.. Replacement assignments in lieu of the withdrawn assignments and with no additional compensation ... Find out what works well at RehabAbilities from the people who know best. Get the inside scoop on jobs, salaries, top office locations, and CEO insights. Compare pay for popular roles and read about the team’s work-life balance. Uncover why RehabAbilities is the best company for you. 1 review of RehabAbilities \"After experiencing what I did with this staffing agency, I would no longer be using any of these types of services any longer. The initial HR assistance who reached out and screened me was nice, but the recruiter (Mark) was quite pushy and disrespectful. We all know staffing agencies get a commission, like a car sales, once people get matched and hired. Rehababilities, Inc. is a New Mexico Foreign Profit Corporation filed On July 27, 1992. The company's filing status is listed as Revoked Final and its File Number is 1575075. The Registered Agent on file for this company is Michael Jones and is located at 5555 Zuni Rd. Se #356, Albuquerque, NM 87108. Rehababilities, Inc. operates as a non profit organization. The Company offers occupational, physical, marriage, and family therapy, speech language pathology, case ... 8655 Haven Avenue, Rancho Cucamonga, CA 91730. +19099895699. Website. Rehababilities offers a comprehensive range of services for those in need of medical assistance in Rancho Cucamonga, CA. Keep your circulation flowing and your muscles eased with a massage from this clinic. RehabAbilities & Social Service Professionals Reviews. Updated Oct 4, 2019. 3.6. ★★★★★. 78 %. Recommend to a Friend. Kim Ozias-Jones. 0 Rating. Your trust is our top concern, so companies can't alter or remove reviews. The average RehabAbilities & Social Service Professionals hourly pay ranges from approximately $27 per hour for a Social Worker to $27 per hour for a Social Worker. RehabAbilities & Social Service Professionals employees rate the overall compensation and benefits package 3.5/5 stars. Find 2 listings related to Rehababilities Inc in Rancho Cucamonga on YP.com. See reviews, photos, directions, phone numbers and more for Rehababilities Inc locations in Rancho Cucamonga, CA. RehabAbilities - Hourly Rate - Get a free salary comparison based on job title, skills, experience and education. Accurate, reliable salary and compensation comparisons for United States Supplier Spotlight: RehabAbilities. By Marketing on 11/13/15 in Suppliers. Company Location: Rancho Cucamonga, CA. Type of Staffing: Allied and Social Work. Name: Susan Westin. Job Title: Rehab Staffing Manager. RehabAbilities Feb 2018 - Present 3 years 7 months. Rancho Cucamonga HR Recruiter Artic Mechanical Sep 2017 - Feb 2018 6 months. Sr. Consultant frederick | andrews ... Site: rehababilities.com. Phone: (909) 989-5699, (909) 989-7633 (Fax) Addresses: 8655 Haven Ave Ste 200, Rancho Cucamonga, CA 91730 (Mailing) 9227 Haven Ave # 300, Rancho Cucamonga, CA 91730. State ID: 0802018041. Business type: Foreign For-Profit Corporation Rehababilities, Inc. was founded in 1987, and is located at 8655 Haven Ave Ste 200 in Rancho Cucamonga. Additional information is available at www.rehababilities.com or by contacting Kimberly Jones at (909) 989-5699. RehabAbilities | Rehab Therapy Staffing and Jobs for - PTs, PTAs, OTs, OTAs, & SLPs, in California. Visit our website to see our Therapy Job Opportunities! RehabAbilities is a rehabilitation and social work staffing company. I handle multifaceted administrative needs and provide support to executive and account management, client relations and ... The National Acquisition Center Contract Catalog Search Tool now allows your facility to browse MedSurg and Pharmaceutical products and services available under Federal Supply Service contracts. The search tool allows the user to locate items using a variety of search criteria, including item description, special item number (SIN) and contract number. The National Acquisition Center Contract Catalog Search Tool now allows your facility to browse MedSurg and Pharmaceutical products and services available under Federal Supply Service contracts. The search tool allows the user to locate items using a variety of search criteria, including item description, special item number (SIN) and contract number.\n"
     ]
    }
   ],
   "source": [
    "print(raw_data['description'].loc[100])"
   ]
  },
  {
   "cell_type": "markdown",
   "metadata": {
    "cell_id": "00004-aebef84b-193e-4a4d-97fe-60ecb798437b",
    "deepnote_cell_type": "markdown"
   },
   "source": [
    "### Observations\n",
    "The dataset contains just two columns: the name of the company (\"employers\") and the description of the company (\"description\"). The \"employers\" column seems straightforward enough, but the \"description\" column is a bit more complicated. It all seems to pertain to the company, but the content of the descriptions seem to vary. For example, the description above starts with an advertisement for the company, but then also includes some kind of review from a former employee who accuses the company of racist and sexist practice. It seems like, often, pieces of information from distinct sources are separated by two or three periods (\"...\"). It seems like most numeric information will probably not be that helpful. Phone numbers, dates, mailing addresses, etc. I think, for the purposes of the model, these kinds of information will not be very useful."
   ]
  },
  {
   "cell_type": "markdown",
   "metadata": {
    "cell_id": "00005-3c88448c-37fd-4736-b79b-7426e07b9828",
    "deepnote_cell_type": "markdown"
   },
   "source": [
    "## Task 2\n",
    "#### Create the regex for a phone number"
   ]
  },
  {
   "cell_type": "code",
   "execution_count": 16,
   "metadata": {
    "cell_id": "00007-aa508294-e34a-4437-a6b9-0bf7c94252af",
    "deepnote_cell_type": "code",
    "deepnote_to_be_reexecuted": true,
    "execution_millis": 2,
    "execution_start": 1634519349946,
    "source_hash": "5515d7d2",
    "tags": []
   },
   "outputs": [
    {
     "name": "stdout",
     "output_type": "stream",
     "text": [
      "This should find a match.     Matches: ['+1 (123) 456 7890']\n",
      "This should find a match.     Matches: ['+11234567890']\n",
      "This should find a match.     Matches: ['+1(123)-456-7890']\n",
      "This should find a match.     Matches: ['(123) - 456 - 7890']\n",
      "This should find a match.     Matches: ['1 123- 456- 7890']\n",
      "This should find a match.     Matches: ['123.456.7890']\n",
      "This should find a match.     Matches: ['+1-(123)-456-7890']\n",
      "This should NOT find a match. Matches: []\n",
      "This should NOT find a match. Matches: []\n",
      "This should NOT find a match. Matches: []\n",
      "This should NOT find a match. Matches: []\n",
      "This should NOT find a match. Matches: []\n",
      "This should NOT find a match. Matches: []\n",
      "This should NOT find a match. Matches: []\n",
      "This should NOT find a match. Matches: []\n"
     ]
    }
   ],
   "source": [
    "'''\n",
    "PATTERN BREAKDOWN:\n",
    "\n",
    "(?<![0-9])\n",
    "Makes sure that the phone number does not follow another number character.\n",
    "\n",
    "(?:(?:\\+1 ?)?|1 ?) \n",
    "Matches if there is \"1\" or \"+1\" at the beginning, since some phone numbers include this.\n",
    "It also matches if there is a space after the \"1\" or \"+1\".\n",
    "\n",
    "(?:\\([0-9]{3}\\)|[0-9]{3})\n",
    "Matches a set of three numbers, possibly inside of parentheses.\n",
    "\n",
    "[\\. \\-]{0,3} \n",
    "Matches characters between the numbers, such as in examples 1, 3, 4, 5, and 6.\n",
    "\n",
    "[0-9]{3} \n",
    "Matches 3 more numbers\n",
    "\n",
    "[\\. \\-]{0,3}\n",
    "Matches more characters between the numbers\n",
    "\n",
    "[0-9]{4} \n",
    "Matches 4 numbers at the end\n",
    "\n",
    "(?![0-9])\n",
    "Makes sure that the string is not followed by another number character.\n",
    "'''\n",
    "\n",
    "phone_number_pattern = \"(?<![0-9])(?:(?:\\+1[ \\-]?)?|1[ \\-]?)(?:\\([0-9]{3}\\)|[0-9]{3})[\\. \\-]{0,3}[0-9]{3}[\\. \\-]{0,3}[0-9]{4}(?![0-9])\"\n",
    "\n",
    "good_examples = []\n",
    "good_examples.append(\"My phone number is +1 (123) 456 7890.\")\n",
    "good_examples.append(\"Here's my phone number: +11234567890.\")\n",
    "good_examples.append(\"You can reach me at +1(123)-456-7890.\")\n",
    "good_examples.append(\"My number is (123) - 456 - 7890.\")\n",
    "good_examples.append(\"Phone: 1 123- 456- 7890.\")\n",
    "good_examples.append(\"My phone: 123.456.7890.\")\n",
    "good_examples.append(\"Call my office: +1-(123)-456-7890.\")\n",
    "for example in good_examples:\n",
    "    print(\"This should find a match.     Matches:\", re.findall(phone_number_pattern, example))\n",
    "\n",
    "bad_examples = []\n",
    "bad_examples.append(\"My phone number is +1 123) 456 7890.\")   # Closing parenthesis without opening\n",
    "bad_examples.append(\"Here's my phone number: 123456789.\")     # Too short\n",
    "bad_examples.append(\"Here's my phone number: 123456789012.\")  # Too long\n",
    "bad_examples.append(\"You can reach me at +1 123-\\n456-7890.\") # Newline character in the middle\n",
    "bad_examples.append(\"My number is (123) - 456 - 789.\")        # Too short\n",
    "bad_examples.append(\"Phone: 123*456*7890.\")                   # Invalid character\n",
    "bad_examples.append(\"My phone: 1 800-GET-RICH.\")              # letters, not numbers\n",
    "bad_examples.append(\"Call my office: +1-(123)-4567-890.\")     # Numbers partitioned incorrectly\n",
    "for example in bad_examples:\n",
    "    print(\"This should NOT find a match. Matches:\", re.findall(phone_number_pattern, example))"
   ]
  },
  {
   "cell_type": "markdown",
   "metadata": {
    "cell_id": "00008-fae9bdf3-9ca2-4aab-becf-735b52d02d3d",
    "deepnote_cell_type": "markdown",
    "tags": []
   },
   "source": [
    "## Task 3\n",
    "#### Apply all the cleaning techniques on the dataset by using function. Your function will take a string as an input and will return the clean version of it. Create one function per regex + string manipulation you do. Use the apply function of pandas to clean your dataset."
   ]
  },
  {
   "cell_type": "code",
   "execution_count": 17,
   "metadata": {},
   "outputs": [
    {
     "data": {
      "text/plain": [
       "'I am from city'"
      ]
     },
     "execution_count": 17,
     "metadata": {},
     "output_type": "execute_result"
    }
   ],
   "source": [
    "def remove_phone_numbers(text):\n",
    "    phone_number_pattern = re.compile(\"(?<![0-9])(?:(?:\\+1[ \\-]?)?|1[ \\-]?)(?:\\([0-9]{3}\\)|[0-9]{3})[\\. \\-]{0,3}[0-9]{3}[\\. \\-]{0,3}[0-9]{4}(?![0-9])\")\n",
    "    return phone_number_pattern.sub(' ', text)\n",
    "\n",
    "def remove_html(text):\n",
    "    html_pattern = re.compile('<.*?>')\n",
    "    return html_pattern.sub(' ', text)\n",
    "\n",
    "def remove_urls(text):\n",
    "    url_pattern = re.compile('https?://\\S+|www\\.\\S+')\n",
    "    return url_pattern.sub(' ', text)\n",
    "\n",
    "def remove_emoji(text):\n",
    "    emoji_pattern = re.compile(\"[\"\n",
    "        u\"\\U0001F600-\\U0001F64F\"  # emoticons\n",
    "        u\"\\U0001F300-\\U0001F5FF\"  # symbols & pictographs\n",
    "        u\"\\U0001F680-\\U0001F6FF\"  # transport & map symbols\n",
    "        u\"\\U0001F1E0-\\U0001F1FF\"  # flags (iOS)\n",
    "        u\"\\U00002702-\\U000027B0\"\n",
    "        u\"\\U000024C2-\\U0001F251\"\n",
    "        \"]+\", flags=re.UNICODE)\n",
    "    return emoji_pattern.sub(r' ', text)\n",
    "\n",
    "def remove_hashtags(text):\n",
    "    hashtag_pattern = re.compile(\"#\\w+\")\n",
    "    return hashtag_pattern.sub(' ', text)\n",
    "\n",
    "def remove_city_names(text): #This relies on capital letters and commas, so make sure to do it before removing punctuation and lowering\n",
    "    city_state_pattern = re.compile(\"(?<![A-Za-z])[A-Z][a-z]+, [A-Z]{2}(?![A-Za-z])\") # Matches strings like \"Nashville, TN\"\n",
    "    return city_state_pattern.sub('city', text)\n",
    "\n",
    "\n",
    "def remove_punctuation(text):\n",
    "    PUNCT_TO_REMOVE = string.punctuation\n",
    "    return text.translate(str.maketrans(' ', ' ', PUNCT_TO_REMOVE))\n",
    "\n",
    "example = \"I am from Jacksonville, FL\"\n",
    "remove_city_names(example)\n",
    "\n",
    "    "
   ]
  },
  {
   "cell_type": "code",
   "execution_count": 18,
   "metadata": {
    "cell_id": "00009-36dc2aca-f87a-49b6-a3f7-eb22f2a9aa37",
    "deepnote_cell_type": "code",
    "deepnote_to_be_reexecuted": true,
    "execution_millis": 1,
    "execution_start": 1634518594107,
    "source_hash": "309dc8f0",
    "tags": []
   },
   "outputs": [],
   "source": [
    "def clean_string(dirty_string): # Returns a cleaned version of dirty_string\n",
    "    cleaned_string = dirty_string\n",
    "    cleaned_string = remove_phone_numbers(cleaned_string)\n",
    "    cleaned_string = remove_html(cleaned_string)\n",
    "    cleaned_string = remove_urls(cleaned_string)\n",
    "    cleaned_string = remove_emoji(cleaned_string)\n",
    "    cleaned_string = remove_hashtags(cleaned_string)\n",
    "    cleaned_string = remove_city_names(cleaned_string)\n",
    "    cleaned_string = remove_punctuation(cleaned_string)\n",
    "    cleaned_string = cleaned_string.lower()\n",
    "    cleaned_string = ''.join([i for i in cleaned_string if not i.isdigit()]) # Removes numbers\n",
    "\n",
    "    return cleaned_string"
   ]
  },
  {
   "cell_type": "code",
   "execution_count": 21,
   "metadata": {},
   "outputs": [
    {
     "name": "stdout",
     "output_type": "stream",
     "text": [
      "The Association of Surgical Technologists (AST) was established in 1969 with the mission of ensuring quality patient care. Today, AST is proud to acknowledge more than 40,000 members and represents the interests of more than 80,000 practitioners nationwide. AST is a protein made by liver cells. When liver cells are damaged, AST leaks out into the bloodstream and the level of AST in the blood becomes elevated. AST is different from ALT because AST is found in parts of the body other than the liver--including the heart, kidneys, muscles, and brain. AST (aspartate aminotransferase) is an enzyme that is found mostly in the liver, but also in muscles. When your liver is damaged, it releases AST into your bloodstream. An AST blood test measures the amount of AST in your blood. The test can help your health care provider diagnose liver damage or disease. Other names: SGOT test, serum glutamic ... AST offers the advisory, operations, and expertise to address a suite of needs, from flawless Transfer Agent and Registrar services to IPO and ownership advisory. We believe in staying ahead of compliance and regulatory changes, in fostering positive relationships with shareholders, and in using technology and strategic acumen to drive decisions. The aspartate aminotransferase (AST) test is a blood test that checks for liver damage. Your doctor might order this test to find out if you have liver disease and to monitor your treatment.. Your ... Supporting individuals with autism to dream and achieve their full potential. Serving Portland and the surrounding, our team of talented clinicians provides individualized, evidence-based interventions based on the principals of Applied Behavior Analysis (ABA) in client’s home, at our learning centers, in the community and/or school. The Association of Surgical Technologist (AST), dissolved the regions following the annual National conference in 1999 when the bylaws were amended. Members in the State of Oregon belonged to Region 8, which included California, Washington, Oregon and a few other western States. Shortly after that AST began to organize the State Assembly Task ... Shortly after that AST began to organize the State Assembly Task Force Committee. Oregon was the 14th State Assembly formed. The Oregon State Assembly (ORSA) was formed on October 7, 2000 and incorporated in June 2001. The ORSA Board members saw the future of the profession of Surgical Technology as a growing technical field, which would ... Death takes a holiday, in outer East Portland. Week 61 Shooting Report | Officers ran down many reported shooting calls, this week. But, for a change, it appears no one was maimed or killed by gunfire over Labor Day. Includes ‘Shots Fired’ log: See if there was any gunfire reported in your neighborhood …. Read the rest of this entry ». craigslist provides local classifieds and forums for jobs, housing, for sale, services, local community, and events AST Blood Test Normal Range. Usually, the AST levels in the bloodstream are low. The normal values range of the AST blood test in males is 10 to 40 units per Liter of Serum and in females, it is 9 to 32 units per Liter of Serum.. However, this range may vary depending on the type of technique and protocols used by the lab. Mon, Aug 30 @7:00pm. Inland Northwest Musicians Chorale Rehearsal. Harris Jr. Academy gymnasium. Tue, Aug 31 @10:30am. Preschool Story Hour. Helix Public Library. Tue, Aug 31 @6:30am. Pendleton ... You must already own one share to invest in a dividend reinvestment plan. If you are already a shareholder of a company with a dividend reinvestment plan and you would like to purchase additional shares, login to access your existing account. Aminotransferase (AST) is an enzyme that’s present in various tissues of your body. An enzyme is a protein that helps trigger chemical reactions that your body needs to function. The Department of Public Safety (DPS) is the state agency charged with providing functions relative to the protection of life, property, and wildlife resources. Department members enforce criminal laws, traffic laws and regulations, wildlife laws and regulations, fire laws and regulations, and are additionally responsible for a number of public safety related functions such as search and ... AST Member Log in. Username * Password * Forgot your username? Forgot your password? Common login problems and resolutions New member? Show Client System Information ×. 6 West Dry Creek Circle, Suite 200 Littleton CO, 80120. P: 800.637.7433 F: 303.694.9169 ... AST treats children in California, Oregon, Washington, Nevada, Arizona, New Mexico, Oklahoma, and Louisiana but also is part of LEARN Behavioral, a national organization made up of providers in autism treatment who specialize in delivering the highest form of personalized, evidence-based ABA therapy. Our more than 30 doctoral-level clinicians ... Atlantic Standard Time (AST) is 4 hours behind Coordinated Universal Time (UTC). This time zone is in use during standard time in: North America, Atlantic, Caribbean.. See full time zone map. What Is Atlantic Standard Time? Atlantic Standard Time (AST) is the easternmost time zone in North America. It is used in the northeast of Canada.. It covers all or parts of four provinces in Canada, and ... \n",
      "\n",
      "the association of surgical technologists ast was established in  with the mission of ensuring quality patient care today ast is proud to acknowledge more than  members and represents the interests of more than  practitioners nationwide ast is a protein made by liver cells when liver cells are damaged ast leaks out into the bloodstream and the level of ast in the blood becomes elevated ast is different from alt because ast is found in parts of the body other than the liverincluding the heart kidneys muscles and brain ast aspartate aminotransferase is an enzyme that is found mostly in the liver but also in muscles when your liver is damaged it releases ast into your bloodstream an ast blood test measures the amount of ast in your blood the test can help your health care provider diagnose liver damage or disease other names sgot test serum glutamic  ast offers the advisory operations and expertise to address a suite of needs from flawless transfer agent and registrar services to ipo and ownership advisory we believe in staying ahead of compliance and regulatory changes in fostering positive relationships with shareholders and in using technology and strategic acumen to drive decisions the aspartate aminotransferase ast test is a blood test that checks for liver damage your doctor might order this test to find out if you have liver disease and to monitor your treatment your  supporting individuals with autism to dream and achieve their full potential serving portland and the surrounding our team of talented clinicians provides individualized evidencebased interventions based on the principals of applied behavior analysis aba in client’s home at our learning centers in the community andor school the association of surgical technologist ast dissolved the regions following the annual national conference in  when the bylaws were amended members in the state of oregon belonged to region  which included california washington oregon and a few other western states shortly after that ast began to organize the state assembly task  shortly after that ast began to organize the state assembly task force committee oregon was the th state assembly formed the oregon state assembly orsa was formed on october   and incorporated in june  the orsa board members saw the future of the profession of surgical technology as a growing technical field which would  death takes a holiday in outer east portland week  shooting report  officers ran down many reported shooting calls this week but for a change it appears no one was maimed or killed by gunfire over labor day includes ‘shots fired’ log see if there was any gunfire reported in your neighborhood … read the rest of this entry » craigslist provides local classifieds and forums for jobs housing for sale services local community and events ast blood test normal range usually the ast levels in the bloodstream are low the normal values range of the ast blood test in males is  to  units per liter of serum and in females it is  to  units per liter of serum however this range may vary depending on the type of technique and protocols used by the lab mon aug  pm inland northwest musicians chorale rehearsal harris jr academy gymnasium tue aug  am preschool story hour helix public library tue aug  am pendleton  you must already own one share to invest in a dividend reinvestment plan if you are already a shareholder of a company with a dividend reinvestment plan and you would like to purchase additional shares login to access your existing account aminotransferase ast is an enzyme that’s present in various tissues of your body an enzyme is a protein that helps trigger chemical reactions that your body needs to function the department of public safety dps is the state agency charged with providing functions relative to the protection of life property and wildlife resources department members enforce criminal laws traffic laws and regulations wildlife laws and regulations fire laws and regulations and are additionally responsible for a number of public safety related functions such as search and  ast member log in username  password  forgot your username forgot your password common login problems and resolutions new member show client system information ×  west dry creek circle suite  littleton co  p   f    ast treats children in california oregon washington nevada arizona new mexico oklahoma and louisiana but also is part of learn behavioral a national organization made up of providers in autism treatment who specialize in delivering the highest form of personalized evidencebased aba therapy our more than  doctorallevel clinicians  atlantic standard time ast is  hours behind coordinated universal time utc this time zone is in use during standard time in north america atlantic caribbean see full time zone map what is atlantic standard time atlantic standard time ast is the easternmost time zone in north america it is used in the northeast of canada it covers all or parts of four provinces in canada and \n"
     ]
    }
   ],
   "source": [
    "print(raw_data['description'].loc[50], '\\n')\n",
    "print(clean_string(raw_data['description'].loc[50]))"
   ]
  },
  {
   "cell_type": "markdown",
   "metadata": {
    "created_in_deepnote_cell": true,
    "deepnote_cell_type": "markdown",
    "tags": []
   },
   "source": [
    "<a style='text-decoration:none;line-height:16px;display:flex;color:#5B5B62;padding:10px;justify-content:end;' href='https://deepnote.com?utm_source=created-in-deepnote-cell&projectId=262b3d28-05ef-49db-b57a-efab2f090880' target=\"_blank\">\n",
    "<img alt='Created in deepnote.com' style='display:inline;max-height:16px;margin:0px;margin-right:7.5px;' src='data:image/svg+xml;base64,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' > </img>\n",
    "Created in <span style='font-weight:600;margin-left:4px;'>Deepnote</span></a>"
   ]
  }
 ],
 "metadata": {
  "deepnote": {},
  "deepnote_execution_queue": [
   {
    "cellId": "00007-aa508294-e34a-4437-a6b9-0bf7c94252af",
    "msgId": "0fa72b7b-cf2b-48ee-a33a-d9d62f720d0e",
    "sessionId": "be95528b-d168-4e51-bf3a-9201d1e2c97e"
   },
   {
    "cellId": "00009-36dc2aca-f87a-49b6-a3f7-eb22f2a9aa37",
    "msgId": "70f2bcab-a530-45fa-8f10-bda00276904d",
    "sessionId": "be95528b-d168-4e51-bf3a-9201d1e2c97e"
   }
  ],
  "deepnote_notebook_id": "92af2e33-ea3a-4b43-9a41-dbab4687cff2",
  "interpreter": {
   "hash": "6dd0af9b8b7e17f847c2ee7319c6039c72192adc34eba6a901458aae092d1543"
  },
  "kernelspec": {
   "display_name": "Python 3.9.1 64-bit",
   "name": "python3"
  },
  "language_info": {
   "codemirror_mode": {
    "name": "ipython",
    "version": 3
   },
   "file_extension": ".py",
   "mimetype": "text/x-python",
   "name": "python",
   "nbconvert_exporter": "python",
   "pygments_lexer": "ipython3",
   "version": "3.9.1"
  },
  "orig_nbformat": 4
 },
 "nbformat": 4,
 "nbformat_minor": 2
}
